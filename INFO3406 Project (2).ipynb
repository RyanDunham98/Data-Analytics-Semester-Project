{
 "cells": [
  {
   "cell_type": "markdown",
   "metadata": {},
   "source": [
    "# Lending Club Loan Database Analysis"
   ]
  },
  {
   "cell_type": "markdown",
   "metadata": {},
   "source": [
    " Lending Club is a financial technology company that specializes in peer-to-peer lending; they connect investors and borrowers to create unsecured personal loans of up to $40,000. These unsecured loans are a type of alternative investment for investors, as they make interest on the loans while borrowers are supplied with their desired capital. Lending Club eventually buys the issued loans, and makes payments to the investors minus service fees, while it collects payments from the borrower.\n",
    "\n",
    "A major problem that Lending Club faces is the risk of default, or the risk that a borrower will not pay back a portion or the entire loan amount. While Lending Club heavily screens its potential borrowers, declining approximately 90% of loan applications, the risk of default still exists. Not only does loan default cause problems for Lending Club, but other delinquencies do as well. Loans that are late or charged off are problematic, as they may default in the future and require the company to attempt to collect, which costs Lending Club time, resources, and money. "
   ]
  },
  {
   "cell_type": "markdown",
   "metadata": {},
   "source": [
    "![alt text](lendingclub.jpg \"Title\")"
   ]
  },
  {
   "cell_type": "markdown",
   "metadata": {},
   "source": [
    "   The following database contains complete loan data for all loans issued through the 2007-2015, including the current loan status (Current, Late, Fully Paid, etc.) and latest payment information. The file containing loan data through the \"present\" contains complete loan data for all loans issued through the previous completed calendar quarter. Additional features include credit scores, number of finance inquiries, address including zip codes, and state, and collections among others. The file is a matrix of about 890,000 observations and 75 variables."
   ]
  },
  {
   "cell_type": "markdown",
   "metadata": {},
   "source": [
    "## Data Collection"
   ]
  },
  {
   "cell_type": "code",
   "execution_count": 319,
   "metadata": {},
   "outputs": [],
   "source": [
    "import pandas as pd\n",
    "import numpy as np\n",
    "from scipy import stats \n",
    "import seaborn as sns\n",
    "import matplotlib.pyplot as plt\n",
    "%matplotlib inline"
   ]
  },
  {
   "cell_type": "code",
   "execution_count": 320,
   "metadata": {},
   "outputs": [
    {
     "data": {
      "text/html": [
       "<div>\n",
       "<style scoped>\n",
       "    .dataframe tbody tr th:only-of-type {\n",
       "        vertical-align: middle;\n",
       "    }\n",
       "\n",
       "    .dataframe tbody tr th {\n",
       "        vertical-align: top;\n",
       "    }\n",
       "\n",
       "    .dataframe thead th {\n",
       "        text-align: right;\n",
       "    }\n",
       "</style>\n",
       "<table border=\"1\" class=\"dataframe\">\n",
       "  <thead>\n",
       "    <tr style=\"text-align: right;\">\n",
       "      <th></th>\n",
       "      <th>member_id</th>\n",
       "      <th>loan_amnt</th>\n",
       "      <th>funded_amnt</th>\n",
       "      <th>funded_amnt_inv</th>\n",
       "      <th>term</th>\n",
       "      <th>int_rate</th>\n",
       "      <th>installment</th>\n",
       "      <th>grade</th>\n",
       "      <th>sub_grade</th>\n",
       "      <th>emp_title</th>\n",
       "      <th>...</th>\n",
       "      <th>total_bal_il</th>\n",
       "      <th>il_util</th>\n",
       "      <th>open_rv_12m</th>\n",
       "      <th>open_rv_24m</th>\n",
       "      <th>max_bal_bc</th>\n",
       "      <th>all_util</th>\n",
       "      <th>total_rev_hi_lim</th>\n",
       "      <th>inq_fi</th>\n",
       "      <th>total_cu_tl</th>\n",
       "      <th>inq_last_12m</th>\n",
       "    </tr>\n",
       "    <tr>\n",
       "      <th>id</th>\n",
       "      <th></th>\n",
       "      <th></th>\n",
       "      <th></th>\n",
       "      <th></th>\n",
       "      <th></th>\n",
       "      <th></th>\n",
       "      <th></th>\n",
       "      <th></th>\n",
       "      <th></th>\n",
       "      <th></th>\n",
       "      <th></th>\n",
       "      <th></th>\n",
       "      <th></th>\n",
       "      <th></th>\n",
       "      <th></th>\n",
       "      <th></th>\n",
       "      <th></th>\n",
       "      <th></th>\n",
       "      <th></th>\n",
       "      <th></th>\n",
       "      <th></th>\n",
       "    </tr>\n",
       "  </thead>\n",
       "  <tbody>\n",
       "    <tr>\n",
       "      <th>1077501</th>\n",
       "      <td>1296599</td>\n",
       "      <td>5000.0</td>\n",
       "      <td>5000.0</td>\n",
       "      <td>4975.0</td>\n",
       "      <td>36 months</td>\n",
       "      <td>10.65</td>\n",
       "      <td>162.87</td>\n",
       "      <td>B</td>\n",
       "      <td>B2</td>\n",
       "      <td>NaN</td>\n",
       "      <td>...</td>\n",
       "      <td>NaN</td>\n",
       "      <td>NaN</td>\n",
       "      <td>NaN</td>\n",
       "      <td>NaN</td>\n",
       "      <td>NaN</td>\n",
       "      <td>NaN</td>\n",
       "      <td>NaN</td>\n",
       "      <td>NaN</td>\n",
       "      <td>NaN</td>\n",
       "      <td>NaN</td>\n",
       "    </tr>\n",
       "    <tr>\n",
       "      <th>1077430</th>\n",
       "      <td>1314167</td>\n",
       "      <td>2500.0</td>\n",
       "      <td>2500.0</td>\n",
       "      <td>2500.0</td>\n",
       "      <td>60 months</td>\n",
       "      <td>15.27</td>\n",
       "      <td>59.83</td>\n",
       "      <td>C</td>\n",
       "      <td>C4</td>\n",
       "      <td>Ryder</td>\n",
       "      <td>...</td>\n",
       "      <td>NaN</td>\n",
       "      <td>NaN</td>\n",
       "      <td>NaN</td>\n",
       "      <td>NaN</td>\n",
       "      <td>NaN</td>\n",
       "      <td>NaN</td>\n",
       "      <td>NaN</td>\n",
       "      <td>NaN</td>\n",
       "      <td>NaN</td>\n",
       "      <td>NaN</td>\n",
       "    </tr>\n",
       "    <tr>\n",
       "      <th>1077175</th>\n",
       "      <td>1313524</td>\n",
       "      <td>2400.0</td>\n",
       "      <td>2400.0</td>\n",
       "      <td>2400.0</td>\n",
       "      <td>36 months</td>\n",
       "      <td>15.96</td>\n",
       "      <td>84.33</td>\n",
       "      <td>C</td>\n",
       "      <td>C5</td>\n",
       "      <td>NaN</td>\n",
       "      <td>...</td>\n",
       "      <td>NaN</td>\n",
       "      <td>NaN</td>\n",
       "      <td>NaN</td>\n",
       "      <td>NaN</td>\n",
       "      <td>NaN</td>\n",
       "      <td>NaN</td>\n",
       "      <td>NaN</td>\n",
       "      <td>NaN</td>\n",
       "      <td>NaN</td>\n",
       "      <td>NaN</td>\n",
       "    </tr>\n",
       "  </tbody>\n",
       "</table>\n",
       "<p>3 rows × 73 columns</p>\n",
       "</div>"
      ],
      "text/plain": [
       "         member_id  loan_amnt  funded_amnt  funded_amnt_inv        term  \\\n",
       "id                                                                        \n",
       "1077501    1296599     5000.0       5000.0           4975.0   36 months   \n",
       "1077430    1314167     2500.0       2500.0           2500.0   60 months   \n",
       "1077175    1313524     2400.0       2400.0           2400.0   36 months   \n",
       "\n",
       "         int_rate  installment grade sub_grade emp_title     ...       \\\n",
       "id                                                           ...        \n",
       "1077501     10.65       162.87     B        B2       NaN     ...        \n",
       "1077430     15.27        59.83     C        C4     Ryder     ...        \n",
       "1077175     15.96        84.33     C        C5       NaN     ...        \n",
       "\n",
       "        total_bal_il il_util  open_rv_12m open_rv_24m max_bal_bc all_util  \\\n",
       "id                                                                          \n",
       "1077501          NaN     NaN          NaN         NaN        NaN      NaN   \n",
       "1077430          NaN     NaN          NaN         NaN        NaN      NaN   \n",
       "1077175          NaN     NaN          NaN         NaN        NaN      NaN   \n",
       "\n",
       "        total_rev_hi_lim inq_fi total_cu_tl inq_last_12m  \n",
       "id                                                        \n",
       "1077501              NaN    NaN         NaN          NaN  \n",
       "1077430              NaN    NaN         NaN          NaN  \n",
       "1077175              NaN    NaN         NaN          NaN  \n",
       "\n",
       "[3 rows x 73 columns]"
      ]
     },
     "execution_count": 320,
     "metadata": {},
     "output_type": "execute_result"
    }
   ],
   "source": [
    "df = pd.read_csv('loan.csv')\n",
    "df.set_index('id', inplace = True)\n",
    "df.head(3)"
   ]
  },
  {
   "cell_type": "markdown",
   "metadata": {},
   "source": [
    "## Data Cleaning"
   ]
  },
  {
   "cell_type": "code",
   "execution_count": 321,
   "metadata": {},
   "outputs": [
    {
     "name": "stdout",
     "output_type": "stream",
     "text": [
      "<class 'pandas.core.frame.DataFrame'>\n",
      "Int64Index: 887379 entries, 1077501 to 36271262\n",
      "Data columns (total 73 columns):\n",
      "member_id                      887379 non-null int64\n",
      "loan_amnt                      887379 non-null float64\n",
      "funded_amnt                    887379 non-null float64\n",
      "funded_amnt_inv                887379 non-null float64\n",
      "term                           887379 non-null object\n",
      "int_rate                       887379 non-null float64\n",
      "installment                    887379 non-null float64\n",
      "grade                          887379 non-null object\n",
      "sub_grade                      887379 non-null object\n",
      "emp_title                      835917 non-null object\n",
      "emp_length                     842554 non-null object\n",
      "home_ownership                 887379 non-null object\n",
      "annual_inc                     887375 non-null float64\n",
      "verification_status            887379 non-null object\n",
      "issue_d                        887379 non-null object\n",
      "loan_status                    887379 non-null object\n",
      "pymnt_plan                     887379 non-null object\n",
      "url                            887379 non-null object\n",
      "desc                           126028 non-null object\n",
      "purpose                        887379 non-null object\n",
      "title                          887227 non-null object\n",
      "zip_code                       887379 non-null object\n",
      "addr_state                     887379 non-null object\n",
      "dti                            887379 non-null float64\n",
      "delinq_2yrs                    887350 non-null float64\n",
      "earliest_cr_line               887350 non-null object\n",
      "inq_last_6mths                 887350 non-null float64\n",
      "mths_since_last_delinq         433067 non-null float64\n",
      "mths_since_last_record         137053 non-null float64\n",
      "open_acc                       887350 non-null float64\n",
      "pub_rec                        887350 non-null float64\n",
      "revol_bal                      887379 non-null float64\n",
      "revol_util                     886877 non-null float64\n",
      "total_acc                      887350 non-null float64\n",
      "initial_list_status            887379 non-null object\n",
      "out_prncp                      887379 non-null float64\n",
      "out_prncp_inv                  887379 non-null float64\n",
      "total_pymnt                    887379 non-null float64\n",
      "total_pymnt_inv                887379 non-null float64\n",
      "total_rec_prncp                887379 non-null float64\n",
      "total_rec_int                  887379 non-null float64\n",
      "total_rec_late_fee             887379 non-null float64\n",
      "recoveries                     887379 non-null float64\n",
      "collection_recovery_fee        887379 non-null float64\n",
      "last_pymnt_d                   869720 non-null object\n",
      "last_pymnt_amnt                887379 non-null float64\n",
      "next_pymnt_d                   634408 non-null object\n",
      "last_credit_pull_d             887326 non-null object\n",
      "collections_12_mths_ex_med     887234 non-null float64\n",
      "mths_since_last_major_derog    221703 non-null float64\n",
      "policy_code                    887379 non-null float64\n",
      "application_type               887379 non-null object\n",
      "annual_inc_joint               511 non-null float64\n",
      "dti_joint                      509 non-null float64\n",
      "verification_status_joint      511 non-null object\n",
      "acc_now_delinq                 887350 non-null float64\n",
      "tot_coll_amt                   817103 non-null float64\n",
      "tot_cur_bal                    817103 non-null float64\n",
      "open_acc_6m                    21372 non-null float64\n",
      "open_il_6m                     21372 non-null float64\n",
      "open_il_12m                    21372 non-null float64\n",
      "open_il_24m                    21372 non-null float64\n",
      "mths_since_rcnt_il             20810 non-null float64\n",
      "total_bal_il                   21372 non-null float64\n",
      "il_util                        18617 non-null float64\n",
      "open_rv_12m                    21372 non-null float64\n",
      "open_rv_24m                    21372 non-null float64\n",
      "max_bal_bc                     21372 non-null float64\n",
      "all_util                       21372 non-null float64\n",
      "total_rev_hi_lim               817103 non-null float64\n",
      "inq_fi                         21372 non-null float64\n",
      "total_cu_tl                    21372 non-null float64\n",
      "inq_last_12m                   21372 non-null float64\n",
      "dtypes: float64(49), int64(1), object(23)\n",
      "memory usage: 501.0+ MB\n"
     ]
    }
   ],
   "source": [
    "df.info()"
   ]
  },
  {
   "cell_type": "markdown",
   "metadata": {},
   "source": [
    "There are many columns in this dataframe that are mostly incomplete or null. I begin the data cleaning process by removing columns with mostly null values. More specifically, any column that is more than 75% null is removed."
   ]
  },
  {
   "cell_type": "code",
   "execution_count": 322,
   "metadata": {},
   "outputs": [
    {
     "name": "stdout",
     "output_type": "stream",
     "text": [
      "The attribute desc is 85.797726 percent null\n",
      "The attribute mths_since_last_record is 84.555303 percent null\n",
      "The attribute mths_since_last_major_derog is 75.015974 percent null\n",
      "The attribute annual_inc_joint is 99.942415 percent null\n",
      "The attribute dti_joint is 99.942640 percent null\n",
      "The attribute verification_status_joint is 99.942415 percent null\n",
      "The attribute open_acc_6m is 97.591559 percent null\n",
      "The attribute open_il_6m is 97.591559 percent null\n",
      "The attribute open_il_12m is 97.591559 percent null\n",
      "The attribute open_il_24m is 97.591559 percent null\n",
      "The attribute mths_since_rcnt_il is 97.654892 percent null\n",
      "The attribute total_bal_il is 97.591559 percent null\n",
      "The attribute il_util is 97.902024 percent null\n",
      "The attribute open_rv_12m is 97.591559 percent null\n",
      "The attribute open_rv_24m is 97.591559 percent null\n",
      "The attribute max_bal_bc is 97.591559 percent null\n",
      "The attribute all_util is 97.591559 percent null\n",
      "The attribute inq_fi is 97.591559 percent null\n",
      "The attribute total_cu_tl is 97.591559 percent null\n",
      "The attribute inq_last_12m is 97.591559 percent null\n"
     ]
    }
   ],
   "source": [
    "total_length = 887379.0\n",
    "for col in df:\n",
    "    total_null = df[col].isnull().sum().sum()\n",
    "    percent_null = float(total_null/total_length)*100\n",
    "    if percent_null > 75:\n",
    "        print(\"The attribute %s is %f percent null\"%(col,percent_null))\n",
    "        df.drop(col, axis = 1,inplace = True)"
   ]
  },
  {
   "cell_type": "code",
   "execution_count": 323,
   "metadata": {
    "scrolled": true
   },
   "outputs": [
    {
     "name": "stdout",
     "output_type": "stream",
     "text": [
      "<class 'pandas.core.frame.DataFrame'>\n",
      "Int64Index: 887379 entries, 1077501 to 36271262\n",
      "Data columns (total 53 columns):\n",
      "member_id                     887379 non-null int64\n",
      "loan_amnt                     887379 non-null float64\n",
      "funded_amnt                   887379 non-null float64\n",
      "funded_amnt_inv               887379 non-null float64\n",
      "term                          887379 non-null object\n",
      "int_rate                      887379 non-null float64\n",
      "installment                   887379 non-null float64\n",
      "grade                         887379 non-null object\n",
      "sub_grade                     887379 non-null object\n",
      "emp_title                     835917 non-null object\n",
      "emp_length                    842554 non-null object\n",
      "home_ownership                887379 non-null object\n",
      "annual_inc                    887375 non-null float64\n",
      "verification_status           887379 non-null object\n",
      "issue_d                       887379 non-null object\n",
      "loan_status                   887379 non-null object\n",
      "pymnt_plan                    887379 non-null object\n",
      "url                           887379 non-null object\n",
      "purpose                       887379 non-null object\n",
      "title                         887227 non-null object\n",
      "zip_code                      887379 non-null object\n",
      "addr_state                    887379 non-null object\n",
      "dti                           887379 non-null float64\n",
      "delinq_2yrs                   887350 non-null float64\n",
      "earliest_cr_line              887350 non-null object\n",
      "inq_last_6mths                887350 non-null float64\n",
      "mths_since_last_delinq        433067 non-null float64\n",
      "open_acc                      887350 non-null float64\n",
      "pub_rec                       887350 non-null float64\n",
      "revol_bal                     887379 non-null float64\n",
      "revol_util                    886877 non-null float64\n",
      "total_acc                     887350 non-null float64\n",
      "initial_list_status           887379 non-null object\n",
      "out_prncp                     887379 non-null float64\n",
      "out_prncp_inv                 887379 non-null float64\n",
      "total_pymnt                   887379 non-null float64\n",
      "total_pymnt_inv               887379 non-null float64\n",
      "total_rec_prncp               887379 non-null float64\n",
      "total_rec_int                 887379 non-null float64\n",
      "total_rec_late_fee            887379 non-null float64\n",
      "recoveries                    887379 non-null float64\n",
      "collection_recovery_fee       887379 non-null float64\n",
      "last_pymnt_d                  869720 non-null object\n",
      "last_pymnt_amnt               887379 non-null float64\n",
      "next_pymnt_d                  634408 non-null object\n",
      "last_credit_pull_d            887326 non-null object\n",
      "collections_12_mths_ex_med    887234 non-null float64\n",
      "policy_code                   887379 non-null float64\n",
      "application_type              887379 non-null object\n",
      "acc_now_delinq                887350 non-null float64\n",
      "tot_coll_amt                  817103 non-null float64\n",
      "tot_cur_bal                   817103 non-null float64\n",
      "total_rev_hi_lim              817103 non-null float64\n",
      "dtypes: float64(31), int64(1), object(21)\n",
      "memory usage: 365.6+ MB\n"
     ]
    }
   ],
   "source": [
    "df.info()"
   ]
  },
  {
   "cell_type": "markdown",
   "metadata": {},
   "source": [
    "While I previously removed columns that were more than 75% null, there are still many features in the dataframe that have null values. To clean these null values, I will fill them with the median value of the respective column. "
   ]
  },
  {
   "cell_type": "code",
   "execution_count": 324,
   "metadata": {},
   "outputs": [],
   "source": [
    "df['emp_length'].fillna(value='0 years',inplace=True)\n",
    "df['annual_inc'].fillna(df['annual_inc'].median(),inplace=True)\n",
    "df['delinq_2yrs'].fillna(df['delinq_2yrs'].median(),inplace=True)\n",
    "df['inq_last_6mths'].fillna(df['inq_last_6mths'].median(),inplace=True)\n",
    "df['mths_since_last_delinq'].fillna(df['mths_since_last_delinq'].median(),inplace=True)\n",
    "df['open_acc'].fillna(df['open_acc'].median(),inplace=True)\n",
    "df['pub_rec'].fillna(df['pub_rec'].median(),inplace=True)\n",
    "df['revol_util'].fillna(df['revol_util'].median(),inplace=True)\n",
    "df['total_acc'].fillna(df['total_acc'].median(),inplace=True)\n",
    "df['collections_12_mths_ex_med'].fillna(df['collections_12_mths_ex_med'].median(),inplace=True)\n",
    "df['acc_now_delinq'].fillna(df['acc_now_delinq'].median(),inplace=True)\n",
    "df['tot_coll_amt'].fillna(df['tot_coll_amt'].median(),inplace=True)\n",
    "df['tot_cur_bal'].fillna(df['tot_cur_bal'].median(),inplace=True)\n",
    "df['total_rev_hi_lim'].fillna(df['total_rev_hi_lim'].median(),inplace=True)"
   ]
  },
  {
   "cell_type": "markdown",
   "metadata": {},
   "source": [
    "I will fill the null values in the emp_length column with 0, since a null value denotes 0 years of work experience. The values for emp_length are string values with the word years attached. I decided to remove the tacked on years and convert the values to integers."
   ]
  },
  {
   "cell_type": "code",
   "execution_count": 325,
   "metadata": {},
   "outputs": [],
   "source": [
    "df['emp_length'].fillna(value='0 years',inplace=True)\n",
    "df['emp_length'].replace(to_replace='[^0-9]+', value='', inplace=True, regex=True)"
   ]
  },
  {
   "cell_type": "markdown",
   "metadata": {},
   "source": [
    "The following two functions return the respective month and year from the issue_d column. I will create two new rows, issue_year and issue_month to replace the issue_d."
   ]
  },
  {
   "cell_type": "code",
   "execution_count": 326,
   "metadata": {},
   "outputs": [],
   "source": [
    "def clean_year(row):\n",
    "    row = str(row)\n",
    "    row = row.split(\"-\")\n",
    "    return row[1]\n",
    "    \n",
    "def clean_month(row):\n",
    "    row = str(row)\n",
    "    row = row.split(\"-\")\n",
    "    return row[0]\n",
    "    \n",
    "df['issue_year'] = df['issue_d'].apply(lambda row: clean_year(row))\n",
    "df['issue_month'] = df['issue_d'].apply(lambda row: clean_month(row))\n",
    "df.drop('issue_d',axis =1, inplace = True)"
   ]
  },
  {
   "cell_type": "code",
   "execution_count": 327,
   "metadata": {},
   "outputs": [
    {
     "data": {
      "text/html": [
       "<div>\n",
       "<style scoped>\n",
       "    .dataframe tbody tr th:only-of-type {\n",
       "        vertical-align: middle;\n",
       "    }\n",
       "\n",
       "    .dataframe tbody tr th {\n",
       "        vertical-align: top;\n",
       "    }\n",
       "\n",
       "    .dataframe thead th {\n",
       "        text-align: right;\n",
       "    }\n",
       "</style>\n",
       "<table border=\"1\" class=\"dataframe\">\n",
       "  <thead>\n",
       "    <tr style=\"text-align: right;\">\n",
       "      <th></th>\n",
       "      <th>member_id</th>\n",
       "      <th>loan_amnt</th>\n",
       "      <th>funded_amnt</th>\n",
       "      <th>funded_amnt_inv</th>\n",
       "      <th>term</th>\n",
       "      <th>int_rate</th>\n",
       "      <th>installment</th>\n",
       "      <th>grade</th>\n",
       "      <th>sub_grade</th>\n",
       "      <th>emp_title</th>\n",
       "      <th>...</th>\n",
       "      <th>last_credit_pull_d</th>\n",
       "      <th>collections_12_mths_ex_med</th>\n",
       "      <th>policy_code</th>\n",
       "      <th>application_type</th>\n",
       "      <th>acc_now_delinq</th>\n",
       "      <th>tot_coll_amt</th>\n",
       "      <th>tot_cur_bal</th>\n",
       "      <th>total_rev_hi_lim</th>\n",
       "      <th>issue_year</th>\n",
       "      <th>issue_month</th>\n",
       "    </tr>\n",
       "    <tr>\n",
       "      <th>id</th>\n",
       "      <th></th>\n",
       "      <th></th>\n",
       "      <th></th>\n",
       "      <th></th>\n",
       "      <th></th>\n",
       "      <th></th>\n",
       "      <th></th>\n",
       "      <th></th>\n",
       "      <th></th>\n",
       "      <th></th>\n",
       "      <th></th>\n",
       "      <th></th>\n",
       "      <th></th>\n",
       "      <th></th>\n",
       "      <th></th>\n",
       "      <th></th>\n",
       "      <th></th>\n",
       "      <th></th>\n",
       "      <th></th>\n",
       "      <th></th>\n",
       "      <th></th>\n",
       "    </tr>\n",
       "  </thead>\n",
       "  <tbody>\n",
       "    <tr>\n",
       "      <th>1077501</th>\n",
       "      <td>1296599</td>\n",
       "      <td>5000.0</td>\n",
       "      <td>5000.0</td>\n",
       "      <td>4975.0</td>\n",
       "      <td>36 months</td>\n",
       "      <td>10.65</td>\n",
       "      <td>162.87</td>\n",
       "      <td>B</td>\n",
       "      <td>B2</td>\n",
       "      <td>NaN</td>\n",
       "      <td>...</td>\n",
       "      <td>Jan-2016</td>\n",
       "      <td>0.0</td>\n",
       "      <td>1.0</td>\n",
       "      <td>INDIVIDUAL</td>\n",
       "      <td>0.0</td>\n",
       "      <td>0.0</td>\n",
       "      <td>80559.0</td>\n",
       "      <td>23700.0</td>\n",
       "      <td>2011</td>\n",
       "      <td>Dec</td>\n",
       "    </tr>\n",
       "    <tr>\n",
       "      <th>1077430</th>\n",
       "      <td>1314167</td>\n",
       "      <td>2500.0</td>\n",
       "      <td>2500.0</td>\n",
       "      <td>2500.0</td>\n",
       "      <td>60 months</td>\n",
       "      <td>15.27</td>\n",
       "      <td>59.83</td>\n",
       "      <td>C</td>\n",
       "      <td>C4</td>\n",
       "      <td>Ryder</td>\n",
       "      <td>...</td>\n",
       "      <td>Sep-2013</td>\n",
       "      <td>0.0</td>\n",
       "      <td>1.0</td>\n",
       "      <td>INDIVIDUAL</td>\n",
       "      <td>0.0</td>\n",
       "      <td>0.0</td>\n",
       "      <td>80559.0</td>\n",
       "      <td>23700.0</td>\n",
       "      <td>2011</td>\n",
       "      <td>Dec</td>\n",
       "    </tr>\n",
       "    <tr>\n",
       "      <th>1077175</th>\n",
       "      <td>1313524</td>\n",
       "      <td>2400.0</td>\n",
       "      <td>2400.0</td>\n",
       "      <td>2400.0</td>\n",
       "      <td>36 months</td>\n",
       "      <td>15.96</td>\n",
       "      <td>84.33</td>\n",
       "      <td>C</td>\n",
       "      <td>C5</td>\n",
       "      <td>NaN</td>\n",
       "      <td>...</td>\n",
       "      <td>Jan-2016</td>\n",
       "      <td>0.0</td>\n",
       "      <td>1.0</td>\n",
       "      <td>INDIVIDUAL</td>\n",
       "      <td>0.0</td>\n",
       "      <td>0.0</td>\n",
       "      <td>80559.0</td>\n",
       "      <td>23700.0</td>\n",
       "      <td>2011</td>\n",
       "      <td>Dec</td>\n",
       "    </tr>\n",
       "    <tr>\n",
       "      <th>1076863</th>\n",
       "      <td>1277178</td>\n",
       "      <td>10000.0</td>\n",
       "      <td>10000.0</td>\n",
       "      <td>10000.0</td>\n",
       "      <td>36 months</td>\n",
       "      <td>13.49</td>\n",
       "      <td>339.31</td>\n",
       "      <td>C</td>\n",
       "      <td>C1</td>\n",
       "      <td>AIR RESOURCES BOARD</td>\n",
       "      <td>...</td>\n",
       "      <td>Jan-2015</td>\n",
       "      <td>0.0</td>\n",
       "      <td>1.0</td>\n",
       "      <td>INDIVIDUAL</td>\n",
       "      <td>0.0</td>\n",
       "      <td>0.0</td>\n",
       "      <td>80559.0</td>\n",
       "      <td>23700.0</td>\n",
       "      <td>2011</td>\n",
       "      <td>Dec</td>\n",
       "    </tr>\n",
       "    <tr>\n",
       "      <th>1075358</th>\n",
       "      <td>1311748</td>\n",
       "      <td>3000.0</td>\n",
       "      <td>3000.0</td>\n",
       "      <td>3000.0</td>\n",
       "      <td>60 months</td>\n",
       "      <td>12.69</td>\n",
       "      <td>67.79</td>\n",
       "      <td>B</td>\n",
       "      <td>B5</td>\n",
       "      <td>University Medical Group</td>\n",
       "      <td>...</td>\n",
       "      <td>Jan-2016</td>\n",
       "      <td>0.0</td>\n",
       "      <td>1.0</td>\n",
       "      <td>INDIVIDUAL</td>\n",
       "      <td>0.0</td>\n",
       "      <td>0.0</td>\n",
       "      <td>80559.0</td>\n",
       "      <td>23700.0</td>\n",
       "      <td>2011</td>\n",
       "      <td>Dec</td>\n",
       "    </tr>\n",
       "  </tbody>\n",
       "</table>\n",
       "<p>5 rows × 54 columns</p>\n",
       "</div>"
      ],
      "text/plain": [
       "         member_id  loan_amnt  funded_amnt  funded_amnt_inv        term  \\\n",
       "id                                                                        \n",
       "1077501    1296599     5000.0       5000.0           4975.0   36 months   \n",
       "1077430    1314167     2500.0       2500.0           2500.0   60 months   \n",
       "1077175    1313524     2400.0       2400.0           2400.0   36 months   \n",
       "1076863    1277178    10000.0      10000.0          10000.0   36 months   \n",
       "1075358    1311748     3000.0       3000.0           3000.0   60 months   \n",
       "\n",
       "         int_rate  installment grade sub_grade                 emp_title  \\\n",
       "id                                                                         \n",
       "1077501     10.65       162.87     B        B2                       NaN   \n",
       "1077430     15.27        59.83     C        C4                     Ryder   \n",
       "1077175     15.96        84.33     C        C5                       NaN   \n",
       "1076863     13.49       339.31     C        C1       AIR RESOURCES BOARD   \n",
       "1075358     12.69        67.79     B        B5  University Medical Group   \n",
       "\n",
       "            ...     last_credit_pull_d collections_12_mths_ex_med  \\\n",
       "id          ...                                                     \n",
       "1077501     ...               Jan-2016                        0.0   \n",
       "1077430     ...               Sep-2013                        0.0   \n",
       "1077175     ...               Jan-2016                        0.0   \n",
       "1076863     ...               Jan-2015                        0.0   \n",
       "1075358     ...               Jan-2016                        0.0   \n",
       "\n",
       "         policy_code application_type acc_now_delinq tot_coll_amt tot_cur_bal  \\\n",
       "id                                                                              \n",
       "1077501          1.0       INDIVIDUAL            0.0          0.0     80559.0   \n",
       "1077430          1.0       INDIVIDUAL            0.0          0.0     80559.0   \n",
       "1077175          1.0       INDIVIDUAL            0.0          0.0     80559.0   \n",
       "1076863          1.0       INDIVIDUAL            0.0          0.0     80559.0   \n",
       "1075358          1.0       INDIVIDUAL            0.0          0.0     80559.0   \n",
       "\n",
       "        total_rev_hi_lim issue_year issue_month  \n",
       "id                                               \n",
       "1077501          23700.0       2011         Dec  \n",
       "1077430          23700.0       2011         Dec  \n",
       "1077175          23700.0       2011         Dec  \n",
       "1076863          23700.0       2011         Dec  \n",
       "1075358          23700.0       2011         Dec  \n",
       "\n",
       "[5 rows x 54 columns]"
      ]
     },
     "execution_count": 327,
     "metadata": {},
     "output_type": "execute_result"
    }
   ],
   "source": [
    "df.head()"
   ]
  },
  {
   "cell_type": "markdown",
   "metadata": {},
   "source": [
    "# Target Variable"
   ]
  },
  {
   "cell_type": "code",
   "execution_count": 328,
   "metadata": {
    "scrolled": false
   },
   "outputs": [
    {
     "data": {
      "text/plain": [
       "Current                                                601779\n",
       "Fully Paid                                             207723\n",
       "Charged Off                                             45248\n",
       "Late (31-120 days)                                      11591\n",
       "Issued                                                   8460\n",
       "In Grace Period                                          6253\n",
       "Late (16-30 days)                                        2357\n",
       "Does not meet the credit policy. Status:Fully Paid       1988\n",
       "Default                                                  1219\n",
       "Does not meet the credit policy. Status:Charged Off       761\n",
       "Name: loan_status, dtype: int64"
      ]
     },
     "execution_count": 328,
     "metadata": {},
     "output_type": "execute_result"
    }
   ],
   "source": [
    "df.loan_status.value_counts()"
   ]
  },
  {
   "cell_type": "markdown",
   "metadata": {},
   "source": [
    "Feature Name | Meaning\n",
    " --- | ---\n",
    "Issued |New loan that has passed review, received funding and has been issued\n",
    "Current| Loan is up to date on all outstanding payments\n",
    "Fully paid|A loan that  has been repaid in full including all principal and interest payments\n",
    "In grace period|The loan is past due, but within the 15-day grace period\n",
    "Late (16-30 days)|Loan has not been current, or up to date on outstanding payments for 16 to 30 days\n",
    "Late (31-120 days) | Loan has not been current, or up to date on outstanding payments for 30 to 120 days\n",
    "Default|Loan has not been current, or up to date on outstanding payments for 121 days or more\n",
    "Charged off|Loan has been deemed uncollectible, no longer reasonable expectation of further payments"
   ]
  },
  {
   "cell_type": "code",
   "execution_count": 329,
   "metadata": {},
   "outputs": [
    {
     "data": {
      "image/png": "[encoded data removed]",
      "text/plain": [
       "<matplotlib.figure.Figure at 0x1aa11c8050>"
      ]
     },
     "metadata": {},
     "output_type": "display_data"
    }
   ],
   "source": [
    "plt.figure(figsize = (13,6))\n",
    "ax = sns.countplot(df['loan_status'])\n",
    "ax.set_xticklabels(['Fully Paid', 'Charged Off', 'Current', 'Default',\n",
    "       'Late (31-120 days)', 'In Grace Period', 'Late (16-30 days)',\n",
    "       'DNMCP, Fully Paid',\n",
    "       'DNMCP, Charged Off', 'Issued'], fontsize=8)\n",
    "ax.set_title('Loan Purpose Count')\n",
    "plt.tight_layout()\n",
    "plt.show()"
   ]
  },
  {
   "cell_type": "markdown",
   "metadata": {},
   "source": [
    "In order to better understand Lending Club customers and their risk of default, I plan to perform exploratory data analysis in order to create a classifier that will predict whether a loan will be “bad”, based on the various attributes in the dataset, and ultimately test the accuracy of this model. A “bad” loan, is one in which the loan status is default, charged off, late (16-30) days, late (31-120) days or in grace period. A “good loan” is one in which the loan status is fully paid, issued, or current."
   ]
  },
  {
   "cell_type": "code",
   "execution_count": 330,
   "metadata": {},
   "outputs": [],
   "source": [
    "def target_var(row):\n",
    "    if row['loan_status'] == 'Fully Paid':\n",
    "        return 0\n",
    "    if row['loan_status'] == 'Issued':\n",
    "        return 0\n",
    "    if row['loan_status'] == 'Does not meet the credit policy. Status:Fully Paid':\n",
    "        return 0\n",
    "    if row['loan_status'] == 'Current':\n",
    "        return 0\n",
    "    if row['loan_status'] == 'Charged Off':\n",
    "        return 1\n",
    "    if row['loan_status'] == 'Default':\n",
    "        return 1\n",
    "    if row['loan_status'] == 'Late (16-30 days)':\n",
    "        return 1\n",
    "    if row['loan_status'] == 'Late (31-120 days)':\n",
    "        return 1\n",
    "    if row['loan_status'] == 'In Grace Period':\n",
    "        return 1\n",
    "    if row['loan_status'] == 'Does not meet the credit policy. Status:Charged Off':\n",
    "        return 1\n",
    "    \n",
    "df['Target'] = df.apply(lambda row: target_var(row),axis=1)"
   ]
  },
  {
   "cell_type": "code",
   "execution_count": 331,
   "metadata": {},
   "outputs": [
    {
     "data": {
      "image/png": "[encoded data removed]",
      "text/plain": [
       "<matplotlib.figure.Figure at 0x1a3d4bc3d0>"
      ]
     },
     "metadata": {},
     "output_type": "display_data"
    }
   ],
   "source": [
    "ax = sns.countplot(x='Target', data= df).set_title('Target Count')"
   ]
  },
  {
   "cell_type": "code",
   "execution_count": 332,
   "metadata": {},
   "outputs": [
    {
     "name": "stdout",
     "output_type": "stream",
     "text": [
      "92.4013302095 percent of loans in this dataset are good\n",
      "7.59866979047 percent of loans in this dataset are bad\n"
     ]
    }
   ],
   "source": [
    "target_count = df.groupby('Target').member_id.count()\n",
    "target_total = float(df['Target'].count())\n",
    "print(\"{} percent of loans in this dataset are good\".format((float(target_count[0])/target_total)*100))\n",
    "print(\"{} percent of loans in this dataset are bad\".format((float(target_count[1])/target_total)*100))"
   ]
  },
  {
   "cell_type": "markdown",
   "metadata": {},
   "source": [
    "This is a binary classification problem as the two classes are \"bad\" loans and \"good\" loans. Upon further analysis, it seems that there is a class imbalance problem in this dataset. There is a significant imbalance between the two classes, as 93% of loans are \"good\" while 7% are \"bad\". This ratio between the two classes, approximately 13.5:1, may result in problems later on in the modelling stage."
   ]
  },
  {
   "cell_type": "markdown",
   "metadata": {},
   "source": [
    "## Exploratory Data Analysis"
   ]
  },
  {
   "cell_type": "markdown",
   "metadata": {},
   "source": [
    "Although there are many attributes in this database, I will limit my exlploration to the following features: "
   ]
  },
  {
   "cell_type": "markdown",
   "metadata": {},
   "source": [
    "Feature Name | Meaning\n",
    " --- | ---\n",
    "loan_amnt | The loan amount requested by the borrower\n",
    "funded_amnt| The loan amount funded by the lender\n",
    "funded_amnt_inv| Total amount commited by Investors\n",
    "term | The length of the loan term, can be 36 months or 60 months\n",
    "addr_state | The state of residence of the borrower\n",
    "int_rate | Interest rate\n",
    "grade | Grade assigned to loan by Lending Club (A, B, C, D, E, F, G)\n",
    "purpose | The purpose of the loan provided by borrower\n",
    "emp_length | Length of employment of borrower in years\n",
    "home_ownership | Home ownership status. (Rent, own, mortgage, other)\n",
    "annual_inc | Annual income of borrower\n",
    "dti | Debt to Income ratio\n",
    "installment | Monthly payment of the borrower\n",
    "\n",
    "\n"
   ]
  },
  {
   "cell_type": "markdown",
   "metadata": {},
   "source": [
    "## Loan Characteristics"
   ]
  },
  {
   "cell_type": "markdown",
   "metadata": {},
   "source": [
    "I begin my analysis by exploring the various features directly associated with the loans created by Lending Club. These variables provide us information about the loan amount, installment, length, etc. "
   ]
  },
  {
   "cell_type": "markdown",
   "metadata": {},
   "source": [
    "### Loan Amount"
   ]
  },
  {
   "cell_type": "markdown",
   "metadata": {},
   "source": [
    "loan_amnt: The loan amount requested by the borrower\n",
    "\n",
    "funded_amnt: The loan amount funded by the lender\n",
    "\n",
    "funded_amnt_inv: Total loan amount commited by investors\n",
    "\n",
    "These three features are tied closely together and give relevant information about how large the desired loan is and how much was actually matched by investors."
   ]
  },
  {
   "cell_type": "code",
   "execution_count": 254,
   "metadata": {},
   "outputs": [
    {
     "data": {
      "text/plain": [
       "count    887379.000000\n",
       "mean      14755.264605\n",
       "std        8435.455601\n",
       "min         500.000000\n",
       "25%        8000.000000\n",
       "50%       13000.000000\n",
       "75%       20000.000000\n",
       "max       35000.000000\n",
       "Name: loan_amnt, dtype: float64"
      ]
     },
     "execution_count": 254,
     "metadata": {},
     "output_type": "execute_result"
    }
   ],
   "source": [
    "df['loan_amnt'].describe()"
   ]
  },
  {
   "cell_type": "code",
   "execution_count": 255,
   "metadata": {},
   "outputs": [
    {
     "data": {
      "text/plain": [
       "Text(0.5,1,u'Total Amount Commited by Investors')"
      ]
     },
     "execution_count": 255,
     "metadata": {},
     "output_type": "execute_result"
    },
    {
     "data": {
      "image/png": "[encoded data removed]",
      "text/plain": [
       "<matplotlib.figure.Figure at 0x1a61458e10>"
      ]
     },
     "metadata": {},
     "output_type": "display_data"
    }
   ],
   "source": [
    "fig, ax = plt.subplots(1, 3, figsize=(16,5))\n",
    "\n",
    "sns.distplot(df['loan_amnt'], ax=ax[0], bins = 20, hist = True, kde = False,\n",
    "                  hist_kws={'edgecolor':'black'}).set_title('Loan Amount Requested by Borrower')\n",
    "\n",
    "sns.distplot(df['funded_amnt'],ax=ax[1], color = 'green', bins = 20, hist = True, kde = False,\n",
    "                  hist_kws={'edgecolor':'black'}).set_title('Loan Amount Funded by Lender')\n",
    "\n",
    "sns.distplot(df['funded_amnt_inv'],ax=ax[2],color = 'red', bins = 20, hist = True, kde = False,\n",
    "                  hist_kws={'edgecolor':'black'}).set_title('Total Amount Commited by Investors')"
   ]
  },
  {
   "cell_type": "markdown",
   "metadata": {},
   "source": [
    "The distribution of loan_amnt, funded_amnt, funded_amnt_inv all appear to be slightly skewed righward. The three distributions share a very similar shape and none contain any clear outliers. This makes sense because Lending Club caps loans to $40,0000."
   ]
  },
  {
   "cell_type": "code",
   "execution_count": 256,
   "metadata": {},
   "outputs": [
    {
     "name": "stdout",
     "output_type": "stream",
     "text": [
      "Loan Amount Skew: 0.68168199261\n",
      "Funded Amount Skew: 0.683743434566\n",
      "Funded Amount by Investors Skew: 0.680981488901\n"
     ]
    }
   ],
   "source": [
    "print('Loan Amount Skew: {}'.format(stats.skew(df['loan_amnt'])))\n",
    "print('Funded Amount Skew: {}'.format(stats.skew(df['funded_amnt'])))\n",
    "print('Funded Amount by Investors Skew: {}'.format(stats.skew(df['funded_amnt_inv'])))"
   ]
  },
  {
   "cell_type": "markdown",
   "metadata": {},
   "source": [
    "While the three distributions are clearly not normal, they are not skewed too significantly and will not need to be normalized."
   ]
  },
  {
   "cell_type": "code",
   "execution_count": 257,
   "metadata": {},
   "outputs": [],
   "source": [
    "def loan_amnt_tier(row, col):\n",
    "    if row[col] < 10000:\n",
    "        return 'Low'\n",
    "    if row[col] < 20000:\n",
    "        return 'Med'\n",
    "    else:\n",
    "        return 'High'\n",
    "    \n",
    "    \n",
    "df['loan_amnt_level'] = df.apply(lambda row: loan_amnt_tier(row, 'loan_amnt'), axis =1)\n",
    "df['funded_amnt_level'] = df.apply(lambda row: loan_amnt_tier(row, 'funded_amnt'), axis =1)\n",
    "df['funded_amnt_inv_level'] = df.apply(lambda row: loan_amnt_tier(row, 'funded_amnt_inv'), axis =1)"
   ]
  },
  {
   "cell_type": "markdown",
   "metadata": {},
   "source": [
    "To gain a better understanding between loan amounts and the target variable, I grouped the loan amounts into three categories; low, med, and high. Low loans are between 0 and 10,000, med loans are between 10,000 and 20,000, while high loans are greater than 20,000. This grouping allows for an effective visualization of the relationship between loan amounts and the target variable."
   ]
  },
  {
   "cell_type": "code",
   "execution_count": 258,
   "metadata": {},
   "outputs": [
    {
     "data": {
      "text/plain": [
       "Text(0.5,1,u'Total Amount Commited by Investors')"
      ]
     },
     "execution_count": 258,
     "metadata": {},
     "output_type": "execute_result"
    },
    {
     "data": {
      "image/png": "[encoded data removed]",
      "text/plain": [
       "<matplotlib.figure.Figure at 0x1a61458a10>"
      ]
     },
     "metadata": {},
     "output_type": "display_data"
    }
   ],
   "source": [
    "fig, ax = plt.subplots(1, 3, figsize=(16,5))\n",
    "\n",
    "sns.countplot(x = 'loan_amnt_level', ax=ax[0], hue = 'Target',data = df).set_title('Loan Amount Requested by Borrower')\n",
    "sns.countplot(x = 'funded_amnt_level', ax=ax[1], hue = 'Target',data = df).set_title('Loan Amount Funded by Lender')\n",
    "sns.countplot(x = 'funded_amnt_inv_level', ax=ax[2], hue = 'Target',data = df).set_title('Total Amount Commited by Investors')"
   ]
  },
  {
   "cell_type": "markdown",
   "metadata": {},
   "source": [
    "It is clear that there is little to no correlation between our target variable and loan amounts."
   ]
  },
  {
   "cell_type": "code",
   "execution_count": 259,
   "metadata": {},
   "outputs": [
    {
     "name": "stdout",
     "output_type": "stream",
     "text": [
      "Loan Amount Correlation with Target: 0.00351174589599\n",
      "Funded Amount Correlation with Target: 0.00280827661318\n",
      "Funded Amount by Investors Correlation with Target: 6.890109201e-06\n"
     ]
    }
   ],
   "source": [
    "df['Target'].corr(df['loan_amnt'])\n",
    "\n",
    "print('Loan Amount Correlation with Target: {}'.format(df['Target'].corr(df['loan_amnt'])))\n",
    "print('Funded Amount Correlation with Target: {}'.format(df['Target'].corr(df['funded_amnt'])))\n",
    "print('Funded Amount by Investors Correlation with Target: {}'.format(df['Target'].corr(df['funded_amnt_inv'])))"
   ]
  },
  {
   "cell_type": "markdown",
   "metadata": {},
   "source": [
    "Although there is a lack of correlation between our target variable and loan amounts, there is strong correlation between the loan amount variables. This high correlation between multiple variables, also called multicolinearity, can cause problems in the modelling stage and represents redundancy. Therefore, we will remove the two least correlated features prior to building our model."
   ]
  },
  {
   "cell_type": "code",
   "execution_count": 260,
   "metadata": {},
   "outputs": [
    {
     "data": {
      "text/plain": [
       "Text(0.5,1,u'Loan Amount Correlation HeatMap')"
      ]
     },
     "execution_count": 260,
     "metadata": {},
     "output_type": "execute_result"
    },
    {
     "data": {
      "image/png": "[encoded data removed]",
      "text/plain": [
       "<matplotlib.figure.Figure at 0x1a61557f10>"
      ]
     },
     "metadata": {},
     "output_type": "display_data"
    }
   ],
   "source": [
    "amnt_df = df[['loan_amnt', 'funded_amnt', 'funded_amnt_inv']].copy()\n",
    "sns.heatmap(amnt_df.corr()).set_title('Loan Amount Correlation HeatMap')"
   ]
  },
  {
   "cell_type": "markdown",
   "metadata": {},
   "source": [
    "### Installment"
   ]
  },
  {
   "cell_type": "markdown",
   "metadata": {},
   "source": [
    "Installment is the monthly payment of the borrower."
   ]
  },
  {
   "cell_type": "code",
   "execution_count": 261,
   "metadata": {},
   "outputs": [
    {
     "data": {
      "text/plain": [
       "count    887379.000000\n",
       "mean        436.717127\n",
       "std         244.186593\n",
       "min          15.670000\n",
       "25%         260.705000\n",
       "50%         382.550000\n",
       "75%         572.600000\n",
       "max        1445.460000\n",
       "Name: installment, dtype: float64"
      ]
     },
     "execution_count": 261,
     "metadata": {},
     "output_type": "execute_result"
    }
   ],
   "source": [
    "df['installment'].describe()"
   ]
  },
  {
   "cell_type": "code",
   "execution_count": 262,
   "metadata": {},
   "outputs": [
    {
     "data": {
      "text/plain": [
       "Text(0.5,1,u'Distribution of Loan Installment')"
      ]
     },
     "execution_count": 262,
     "metadata": {},
     "output_type": "execute_result"
    },
    {
     "data": {
      "image/png": "[encoded data removed]",
      "text/plain": [
       "<matplotlib.figure.Figure at 0x1a3c9748d0>"
      ]
     },
     "metadata": {},
     "output_type": "display_data"
    }
   ],
   "source": [
    "sns.distplot(df['installment']).set_title('Distribution of Loan Installment')"
   ]
  },
  {
   "cell_type": "markdown",
   "metadata": {},
   "source": [
    "Based on the distribution plot above, it is apparent that installment is skewed rightward significantly. I may normalize this feature prior to modeling. "
   ]
  },
  {
   "cell_type": "code",
   "execution_count": 263,
   "metadata": {},
   "outputs": [
    {
     "name": "stdout",
     "output_type": "stream",
     "text": [
      "Installment Skew: 0.936950762322\n"
     ]
    }
   ],
   "source": [
    "print('Installment Skew: {}'.format(stats.skew(df['installment'])))"
   ]
  },
  {
   "cell_type": "code",
   "execution_count": 264,
   "metadata": {},
   "outputs": [
    {
     "name": "stdout",
     "output_type": "stream",
     "text": [
      "Correlation between Installment and Target: 0.0141244069123\n"
     ]
    }
   ],
   "source": [
    "print('Correlation between Installment and Target: {}'.format(df['installment'].corr(df['Target'])))"
   ]
  },
  {
   "cell_type": "code",
   "execution_count": 265,
   "metadata": {},
   "outputs": [
    {
     "name": "stdout",
     "output_type": "stream",
     "text": [
      "Correlation between Installment and Loan Amount: 0.944977240836\n"
     ]
    }
   ],
   "source": [
    "print('Correlation between Installment and Loan Amount: {}'.format(df['loan_amnt'].corr(df['installment'])))"
   ]
  },
  {
   "cell_type": "markdown",
   "metadata": {},
   "source": [
    "While the installment is not highly correlated with the target variable, it is strongly correlated with loan amount and adds to the high multicolinearity in this dataset. "
   ]
  },
  {
   "cell_type": "markdown",
   "metadata": {},
   "source": [
    "### Loan Grade"
   ]
  },
  {
   "cell_type": "markdown",
   "metadata": {},
   "source": [
    "Loan grades are given on a risk basis. The most secure loans are deemed grade A, while the riskiest loans are deemed grade G. Higher grade loans are less risky, meaning they have lower expected volatility and loan loss, but produce lower expected returns since they bear lower interest payments. Contrastingly, lower grade loans carry more risk, as they have higher than expected volatility and loan loss, however they generate higher than expected returns due to higher interest payments. Therefore, Lending Club attempts to optimize a specific grade distribution of loans to retain an ideal risk/return ratio. "
   ]
  },
  {
   "cell_type": "code",
   "execution_count": 266,
   "metadata": {},
   "outputs": [
    {
     "data": {
      "image/png": "[encoded data removed]",
      "text/plain": [
       "<matplotlib.figure.Figure at 0x1a732f9490>"
      ]
     },
     "metadata": {},
     "output_type": "display_data"
    }
   ],
   "source": [
    "ax = sns.countplot(x='grade', order = ['A','B','C','D','E','F','G'], data= df).set_title('Loan Grade Count')"
   ]
  },
  {
   "cell_type": "code",
   "execution_count": 267,
   "metadata": {},
   "outputs": [
    {
     "data": {
      "image/png": "[encoded data removed]",
      "text/plain": [
       "<matplotlib.figure.Figure at 0x1a3492c210>"
      ]
     },
     "metadata": {},
     "output_type": "display_data"
    }
   ],
   "source": [
    "labels = list(df['grade'].value_counts().sort_index().index)\n",
    "sizes = list(df['grade'].value_counts().sort_index().values)\n",
    "explode = (0.05, 0, 0, 0, 0, 0, 0)\n",
    "plt.figure(figsize = (15,8))\n",
    "plt.pie(sizes, labels=labels,\n",
    "        autopct='%1.1f%%', startangle=140)\n",
    "\n",
    "#patches, texts = plt.pie(sizes,shadow=True, startangle=90,)\n",
    "#plt.legend(patches, labels, loc=\"best\")\n",
    "plt.axis('equal')\n",
    "plt.tight_layout()\n",
    "plt.show()\n"
   ]
  },
  {
   "cell_type": "code",
   "execution_count": 268,
   "metadata": {},
   "outputs": [
    {
     "data": {
      "image/png": "[encoded data removed]",
      "text/plain": [
       "<matplotlib.figure.Figure at 0x1a290a78d0>"
      ]
     },
     "metadata": {},
     "output_type": "display_data"
    }
   ],
   "source": [
    "ax = sns.countplot(x='grade', order = ['A','B','C','D','E','F','G'],data= df, hue = 'Target').set_title('Grade Count by Target')"
   ]
  },
  {
   "cell_type": "code",
   "execution_count": 269,
   "metadata": {},
   "outputs": [
    {
     "name": "stdout",
     "output_type": "stream",
     "text": [
      "       Number of Bad Loans  Total Number of Loans  Bad Loan Percentage\n",
      "grade                                                                 \n",
      "A                     3663                 148202             2.471627\n",
      "B                    13456                 254535             5.286503\n",
      "C                    19054                 245860             7.749939\n",
      "D                    15859                 139542            11.365037\n",
      "E                     9745                  70705            13.782618\n",
      "F                     4383                  23046            19.018485\n",
      "G                     1269                   5489            23.118965\n"
     ]
    }
   ],
   "source": [
    "grade_df = pd.DataFrame()\n",
    "grade_df['Number of Bad Loans'] = df.groupby('grade').Target.sum()\n",
    "grade_df['Total Number of Loans'] = df.groupby('grade').Target.count()\n",
    "grade_df['Bad Loan Percentage'] = grade_df['Number of Bad Loans']/grade_df['Total Number of Loans']*100\n",
    "print(grade_df)"
   ]
  },
  {
   "cell_type": "markdown",
   "metadata": {},
   "source": [
    "It is apparent that there is a clear relationship between loan grade and the target variable. Bad loan percentage increases as the loans get worse in quality. In fact, almost 1/4th of all G grade loans are bad. While this is not necissarily suprising since these low grade loans are riskier by nature, there is a significant relationship"
   ]
  },
  {
   "cell_type": "code",
   "execution_count": 270,
   "metadata": {},
   "outputs": [
    {
     "data": {
      "image/png": "[encoded data removed]",
      "text/plain": [
       "<matplotlib.figure.Figure at 0x1a61680610>"
      ]
     },
     "metadata": {},
     "output_type": "display_data"
    }
   ],
   "source": [
    "ax =sns.boxplot(x = 'grade', y = 'int_rate',order = ['A','B','C','D','E','F','G'], data = df).set_title('Grade vs. Interest Rate')"
   ]
  },
  {
   "cell_type": "markdown",
   "metadata": {},
   "source": [
    "### Term"
   ]
  },
  {
   "cell_type": "markdown",
   "metadata": {},
   "source": [
    "Lending Club loans can have a term of either 36 or 60 months, with a majority being 36 months"
   ]
  },
  {
   "cell_type": "code",
   "execution_count": 271,
   "metadata": {},
   "outputs": [
    {
     "data": {
      "text/plain": [
       "Text(0.5,1,u'Term Count')"
      ]
     },
     "execution_count": 271,
     "metadata": {},
     "output_type": "execute_result"
    },
    {
     "data": {
      "image/png": "[encoded data removed]",
      "text/plain": [
       "<matplotlib.figure.Figure at 0x1a26b8cdd0>"
      ]
     },
     "metadata": {},
     "output_type": "display_data"
    }
   ],
   "source": [
    "sns.countplot(df['term']).set_title('Term Count')"
   ]
  },
  {
   "cell_type": "code",
   "execution_count": 272,
   "metadata": {},
   "outputs": [
    {
     "name": "stdout",
     "output_type": "stream",
     "text": [
      "69.9954585358 percent of loans have 36 month terms\n",
      "30.0045414642 percent of loans have 60 month terms\n"
     ]
    }
   ],
   "source": [
    "term_count = df.groupby('term').Target.count()\n",
    "term_total = float(df['Target'].count())\n",
    "print(\"{} percent of loans have 36 month terms\".format((float(term_count[0])/term_total)*100))\n",
    "print(\"{} percent of loans have 60 month terms\".format((float(term_count[1])/term_total)*100))"
   ]
  },
  {
   "cell_type": "markdown",
   "metadata": {},
   "source": [
    "I now explore terms relationship with a few other variables.\n"
   ]
  },
  {
   "cell_type": "markdown",
   "metadata": {},
   "source": [
    "It seems that there is a difference between the grade distributions for the two terms. While the 36 month distribution is clearly skewed rightward, indicating a higher rate of better grade loans, 60 months has a roughly normal distribution. This near normal distribution indicates that 60 month loans have a tendency towards and thus a higher rate of low grade loans."
   ]
  },
  {
   "cell_type": "code",
   "execution_count": 273,
   "metadata": {},
   "outputs": [
    {
     "data": {
      "text/plain": [
       "Text(0.5,1,u'Term Count per Grade')"
      ]
     },
     "execution_count": 273,
     "metadata": {},
     "output_type": "execute_result"
    },
    {
     "data": {
      "image/png": "[encoded data removed]",
      "text/plain": [
       "<matplotlib.figure.Figure at 0x1acbb51d50>"
      ]
     },
     "metadata": {},
     "output_type": "display_data"
    }
   ],
   "source": [
    "sns.countplot(df['term'], hue = df['grade'], hue_order = ['A','B','C','D','E','F','G']).set_title('Term Count per Grade')"
   ]
  },
  {
   "cell_type": "markdown",
   "metadata": {},
   "source": [
    "Term is clearly positively correlated with interest rate and loan amount. This makes intuitive sense since higher interest rates are charged for longer term loans. Also, if your loan amount is high you are more likely to have a longer term than if your loan amount was very small."
   ]
  },
  {
   "cell_type": "code",
   "execution_count": 274,
   "metadata": {},
   "outputs": [
    {
     "data": {
      "text/plain": [
       "Text(0.5,1,u'Term Count vs. Loan Amount')"
      ]
     },
     "execution_count": 274,
     "metadata": {},
     "output_type": "execute_result"
    },
    {
     "data": {
      "image/png": "[encoded data removed]",
      "text/plain": [
       "<matplotlib.figure.Figure at 0x1a3c94d590>"
      ]
     },
     "metadata": {},
     "output_type": "display_data"
    }
   ],
   "source": [
    "fig, ax = plt.subplots(1, 3, figsize=(16,5))\n",
    "\n",
    "sns.boxplot(x = df['term'], y= df['int_rate'], ax=ax[0]).set_title('Term Count vs. Interest Rate')\n",
    "sns.boxplot(x = df['term'], y= df_out['dti'], ax=ax[1]).set_title('Term Count vs. dti')\n",
    "sns.boxplot(x = df['term'], y= df['loan_amnt'],ax=ax[2]).set_title('Term Count vs. Loan Amount')"
   ]
  },
  {
   "cell_type": "markdown",
   "metadata": {},
   "source": [
    "I now analyze terms relationship with the target variable"
   ]
  },
  {
   "cell_type": "code",
   "execution_count": 275,
   "metadata": {},
   "outputs": [
    {
     "data": {
      "text/plain": [
       "Text(0.5,1,u'Term Count per Target')"
      ]
     },
     "execution_count": 275,
     "metadata": {},
     "output_type": "execute_result"
    },
    {
     "data": {
      "image/png": "[encoded data removed]",
      "text/plain": [
       "<matplotlib.figure.Figure at 0x1a338be7d0>"
      ]
     },
     "metadata": {},
     "output_type": "display_data"
    }
   ],
   "source": [
    "sns.countplot(df['term'], hue = df['Target']).set_title('Term Count per Target')"
   ]
  },
  {
   "cell_type": "code",
   "execution_count": 276,
   "metadata": {},
   "outputs": [
    {
     "name": "stdout",
     "output_type": "stream",
     "text": [
      "            Number of Bad Loans  Total Number of Loans  Bad Loan Percentage\n",
      "term                                                                       \n",
      " 36 months                42931                 621125             6.911813\n",
      " 60 months                24498                 266254             9.200989\n"
     ]
    }
   ],
   "source": [
    "term_df = pd.DataFrame()\n",
    "term_df['Number of Bad Loans'] = df.groupby('term').Target.sum()\n",
    "term_df['Total Number of Loans'] = df.groupby('term').Target.count()\n",
    "term_df['Bad Loan Percentage'] = term_df['Number of Bad Loans']/term_df['Total Number of Loans']*100\n",
    "print(term_df)"
   ]
  },
  {
   "cell_type": "markdown",
   "metadata": {},
   "source": [
    "There seems to be a sigificant relationship between a longer term and the percentage of bad loans. While it is not huge, there is clearly a higher rate of bad loans for 60 month terms than 36 month terms."
   ]
  },
  {
   "cell_type": "markdown",
   "metadata": {},
   "source": [
    "### Loan Purpose"
   ]
  },
  {
   "cell_type": "markdown",
   "metadata": {},
   "source": [
    "It appears that most loans generated by Lending Club are used for the purpose of paying back debts, either debt consolidation or credit cards. One would expect that loans used for this purpose would have a proportionately higher bad loan rate than other purposes such as home improvement or paying for a car. I will further explore their relationship with the target variable."
   ]
  },
  {
   "cell_type": "code",
   "execution_count": 277,
   "metadata": {},
   "outputs": [
    {
     "data": {
      "image/png": "[encoded data removed]",
      "text/plain": [
       "<matplotlib.figure.Figure at 0x1a733abb10>"
      ]
     },
     "metadata": {},
     "output_type": "display_data"
    }
   ],
   "source": [
    "plt.figure(figsize = (14,6))\n",
    "ax = sns.countplot(x='purpose', order = ['credit_card', 'car', 'small_business', 'other', 'wedding',\n",
    "       'debt_consolidation', 'moving', 'major_purchase',\n",
    "       'medical', 'home_improvement', 'vacation', 'house', 'renewable_energy',\n",
    "       'educational'], data= df)\n",
    "ax.set_xticklabels(ax.get_xticklabels(), fontsize=8)\n",
    "ax.set_title('Loan Purpose Count per Target Variable')\n",
    "plt.tight_layout()\n",
    "plt.show()"
   ]
  },
  {
   "cell_type": "code",
   "execution_count": 278,
   "metadata": {},
   "outputs": [
    {
     "data": {
      "image/png": "[encoded data removed]",
      "text/plain": [
       "<matplotlib.figure.Figure at 0x1a79dff810>"
      ]
     },
     "metadata": {},
     "output_type": "display_data"
    }
   ],
   "source": [
    "plt.figure(figsize = (14,6))\n",
    "ax = sns.countplot(x='purpose', order = ['credit_card', 'car', 'small_business', 'other', 'wedding',\n",
    "       'debt_consolidation', 'moving', 'major_purchase',\n",
    "       'medical', 'home_improvement', 'vacation', 'house', 'renewable_energy',\n",
    "       'educational'], hue = 'Target', data= df)\n",
    "ax.set_xticklabels(ax.get_xticklabels(), fontsize=8)\n",
    "ax.set_title('Loan Purpose Count per Target Variable')\n",
    "plt.tight_layout()\n",
    "plt.show()"
   ]
  },
  {
   "cell_type": "markdown",
   "metadata": {},
   "source": [
    "Suprisingly, loans that were used for the purposes of education and small businesses have the highest bad loan rate. Loans used for the purposes of paying off debts, debt consolidation and credit cards, had lower than average bad loan rates. "
   ]
  },
  {
   "cell_type": "code",
   "execution_count": 279,
   "metadata": {},
   "outputs": [
    {
     "name": "stdout",
     "output_type": "stream",
     "text": [
      "Average Bad Loan Percentage: 10.5413406818% \n",
      "\n",
      "               purpose  total_bad  total_loan    bad_pct\n",
      "0                  car        596        8863   6.724585\n",
      "1          credit_card      11755      206182   5.701274\n",
      "2   debt_consolidation      41608      524215   7.937201\n",
      "3          educational         88         423  20.803783\n",
      "4     home_improvement       3553       51829   6.855235\n",
      "5                house        417        3707  11.248988\n",
      "6       major_purchase       1294       17277   7.489726\n",
      "7              medical        804        8540   9.414520\n",
      "8               moving        607        5414  11.211673\n",
      "9                other       4163       42894   9.705320\n",
      "10    renewable_energy         72         575  12.521739\n",
      "11      small_business       1781       10377  17.162957\n",
      "12            vacation        402        4736   8.488176\n",
      "13             wedding        289        2347  12.313592\n"
     ]
    }
   ],
   "source": [
    "purpose_df = pd.DataFrame()\n",
    "purpose_df['total_bad'] = df.groupby('purpose').Target.sum()\n",
    "purpose_df['total_loan']= df.groupby('purpose').Target.count()\n",
    "purpose_df['bad_pct'] = purpose_df['total_bad']/purpose_df['total_loan'] * 100\n",
    "purpose_df.reset_index(inplace=True)\n",
    "print('Average Bad Loan Percentage: {}% \\n'.format(purpose_df['bad_pct'].mean()))\n",
    "print(purpose_df)\n"
   ]
  },
  {
   "cell_type": "code",
   "execution_count": 280,
   "metadata": {},
   "outputs": [
    {
     "data": {
      "image/png": "[encoded data removed]",
      "text/plain": [
       "<matplotlib.figure.Figure at 0x1a803b6290>"
      ]
     },
     "metadata": {},
     "output_type": "display_data"
    }
   ],
   "source": [
    "purpose_df['bad_pct'].apply(lambda x: float(x))\n",
    "plt.figure(figsize=(15,8))\n",
    "ax = sns.barplot(y =purpose_df['bad_pct'], x = purpose_df['purpose'])\n",
    "ax.set_xticklabels(ax.get_xticklabels(), fontsize=8)\n",
    "ax.set_title('Loan Purpose vs. Bad Loan Rate Percentage')\n",
    "plt.tight_layout()\n",
    "plt.show()"
   ]
  },
  {
   "cell_type": "markdown",
   "metadata": {},
   "source": [
    "Although the bad loan rate was highest among the educational and small business purposes, this may be conflated due to the relative number of loans. The amount of loans used for these purposes is minimal compared to debt consolidation and credit cards. This small sample size may account for the disparity and higher bad loan rate. While Lending Club should take this information into account, I would not recommend any action against loans created for educational or small business purposes."
   ]
  },
  {
   "cell_type": "markdown",
   "metadata": {},
   "source": [
    "### Interest Rate "
   ]
  },
  {
   "cell_type": "markdown",
   "metadata": {},
   "source": [
    "An interest rate is the amount of interest due per period, as a proportion of the amount lent, deposited or borrowed.\n",
    "Lending Loan calculates interest rates based on two factors: the term to maturity of the investment (term) and the perceived default probability of the borrower (grade)"
   ]
  },
  {
   "cell_type": "code",
   "execution_count": 281,
   "metadata": {},
   "outputs": [
    {
     "data": {
      "text/plain": [
       "count    887379.000000\n",
       "mean         13.246740\n",
       "std           4.381867\n",
       "min           5.320000\n",
       "25%           9.990000\n",
       "50%          12.990000\n",
       "75%          16.200000\n",
       "max          28.990000\n",
       "Name: int_rate, dtype: float64"
      ]
     },
     "execution_count": 281,
     "metadata": {},
     "output_type": "execute_result"
    }
   ],
   "source": [
    "df['int_rate'].describe()"
   ]
  },
  {
   "cell_type": "markdown",
   "metadata": {},
   "source": [
    "Like most of the distributions in this dataset, interest rates distribution is skewed rightward. Although there is no significant outliers causing this skew, it is not normally distributed."
   ]
  },
  {
   "cell_type": "code",
   "execution_count": 282,
   "metadata": {},
   "outputs": [
    {
     "data": {
      "text/plain": [
       "Text(0.5,1,u'Distribution of Interest Rates')"
      ]
     },
     "execution_count": 282,
     "metadata": {},
     "output_type": "execute_result"
    },
    {
     "data": {
      "image/png": "[encoded data removed]",
      "text/plain": [
       "<matplotlib.figure.Figure at 0x1a803be510>"
      ]
     },
     "metadata": {},
     "output_type": "display_data"
    }
   ],
   "source": [
    "sns.distplot(df['int_rate'], hist=True, kde=False, \n",
    "             bins=25, hist_kws={'edgecolor':'black'}).set_title(\"Distribution of Interest Rates\")"
   ]
  },
  {
   "cell_type": "code",
   "execution_count": 283,
   "metadata": {},
   "outputs": [
    {
     "name": "stdout",
     "output_type": "stream",
     "text": [
      "Interest Rate Skew: 0.429479901914\n"
     ]
    }
   ],
   "source": [
    "print('Interest Rate Skew: {}'.format(stats.skew(df['int_rate'])))"
   ]
  },
  {
   "cell_type": "code",
   "execution_count": 284,
   "metadata": {},
   "outputs": [
    {
     "data": {
      "text/plain": [
       "Text(0.5,1,u'Interest Rate vs. Grade')"
      ]
     },
     "execution_count": 284,
     "metadata": {},
     "output_type": "execute_result"
    },
    {
     "data": {
      "image/png": "[encoded data removed]",
      "text/plain": [
       "<matplotlib.figure.Figure at 0x1a80483dd0>"
      ]
     },
     "metadata": {},
     "output_type": "display_data"
    }
   ],
   "source": [
    "fig, ax = plt.subplots(1, 2, figsize=(16,5))\n",
    "sns.countplot(x = 'int_rate_level', order = ['Low','Med','High'], hue = 'term',\n",
    "              ax=ax[0], data = df).set_title('Interest Rate vs. Term')\n",
    "sns.countplot(x = 'int_rate_level', order = ['Low','Med','High'], hue = 'grade',\n",
    "              ax=ax[1],hue_order =  ['A','B','C','D','E','F','G'], data = df).set_title('Interest Rate vs. Grade')\n"
   ]
  },
  {
   "cell_type": "markdown",
   "metadata": {},
   "source": [
    "To make an effective visualization of Interest Rates relationship with the target variable, I group the values into three different categories: low, med, and high. Low interest rates are below 10%, med are between 10 and 20%, and high are greater than 20%"
   ]
  },
  {
   "cell_type": "code",
   "execution_count": 285,
   "metadata": {},
   "outputs": [],
   "source": [
    "def int_rate_tier(row):\n",
    "    if row['int_rate'] < 10:\n",
    "        return 'Low'\n",
    "    if row['int_rate'] < 20:\n",
    "        return 'Med'\n",
    "    else:\n",
    "        return 'High'\n",
    "df['int_rate_level'] = df.apply(lambda row: int_rate_tier(row), axis =1)"
   ]
  },
  {
   "cell_type": "code",
   "execution_count": 286,
   "metadata": {},
   "outputs": [
    {
     "data": {
      "image/png": "[encoded data removed]",
      "text/plain": [
       "<matplotlib.figure.Figure at 0x1a817eed50>"
      ]
     },
     "metadata": {},
     "output_type": "display_data"
    }
   ],
   "source": [
    "ax = sns.countplot(x = 'int_rate_level', order = ['Low','Med', 'High'], hue = 'Target',data = df).set_title('Interest Rate vs. Target')"
   ]
  },
  {
   "cell_type": "code",
   "execution_count": 287,
   "metadata": {},
   "outputs": [
    {
     "name": "stdout",
     "output_type": "stream",
     "text": [
      "2.39750180567 % of Low interest rate loans are bad\n",
      "8.50855861094 % of Med interest rate loans are bad\n",
      "19.2699982944 % of High interest rate loans are bad\n"
     ]
    }
   ],
   "source": [
    "num_bad = df.groupby('int_rate_level').sum()['Target'].values\n",
    "total = df['int_rate_level'].value_counts().values\n",
    "low_rate = (num_bad[1]/float(total[1]))*100\n",
    "med_rate = (num_bad[2]/float(total[0]))*100\n",
    "high_rate = (num_bad[0]/float(total[2]))*100\n",
    "print('{} % of Low interest rate loans are bad'.format(low_rate))\n",
    "print('{} % of Med interest rate loans are bad'.format(med_rate))\n",
    "print('{} % of High interest rate loans are bad'.format(high_rate))"
   ]
  },
  {
   "cell_type": "code",
   "execution_count": 288,
   "metadata": {},
   "outputs": [
    {
     "data": {
      "text/plain": [
       "0.17545032207541023"
      ]
     },
     "execution_count": 288,
     "metadata": {},
     "output_type": "execute_result"
    }
   ],
   "source": [
    "df['Target'].corr(df['int_rate'])"
   ]
  },
  {
   "cell_type": "markdown",
   "metadata": {},
   "source": [
    "Out of all the features we have explored, interest rate is the most strongly correlated with target. "
   ]
  },
  {
   "cell_type": "markdown",
   "metadata": {},
   "source": [
    "### Issue date"
   ]
  },
  {
   "cell_type": "markdown",
   "metadata": {},
   "source": [
    "Since 2007, the number of loans issued per year has substantitally increased. In 2007, only about 700 loans were issued. By 2015, 430,000 loans were issued per year. "
   ]
  },
  {
   "cell_type": "code",
   "execution_count": 289,
   "metadata": {},
   "outputs": [],
   "source": [
    "year_df = pd.DataFrame()\n",
    "year_df['issue_count'] = df.groupby(['issue_year']).Target.count()\n",
    "year_df['issue_target'] = df.groupby(['issue_year']).Target.sum()\n",
    "year_df['bad_pct'] = (df.groupby(['issue_year']).Target.sum()/df.groupby(['issue_year']).Target.count())*100"
   ]
  },
  {
   "cell_type": "code",
   "execution_count": 290,
   "metadata": {},
   "outputs": [
    {
     "data": {
      "image/png": "[encoded data removed]",
      "text/plain": [
       "<matplotlib.figure.Figure at 0x1a79bf72d0>"
      ]
     },
     "metadata": {},
     "output_type": "display_data"
    }
   ],
   "source": [
    "ax = sns.barplot(x = year_df.index.values, y = year_df['issue_count'] ).set_title(' Number of Loans Issued per Year')"
   ]
  },
  {
   "cell_type": "markdown",
   "metadata": {},
   "source": [
    "Not only is the number of loans issued per year increasing, but the average loan amount is increasing each year."
   ]
  },
  {
   "cell_type": "code",
   "execution_count": 291,
   "metadata": {},
   "outputs": [
    {
     "data": {
      "image/png": "[encoded data removed]",
      "text/plain": [
       "<matplotlib.figure.Figure at 0x1a8166e590>"
      ]
     },
     "metadata": {},
     "output_type": "display_data"
    }
   ],
   "source": [
    "ax = sns.barplot(x = 'issue_year', y = 'loan_amnt', data = df).set_title('Average Loan Amount per Year')"
   ]
  },
  {
   "cell_type": "markdown",
   "metadata": {},
   "source": [
    "Although the number of loans issue per year are increasing, the bad loan percentage has been decreasing throughout the years. In their first year, the bad loan percentage was around 25%. In 2015 it dropped to a little under 5%. "
   ]
  },
  {
   "cell_type": "code",
   "execution_count": 292,
   "metadata": {},
   "outputs": [
    {
     "data": {
      "image/png": "[encoded data removed]",
      "text/plain": [
       "<matplotlib.figure.Figure at 0x1a8163fd50>"
      ]
     },
     "metadata": {},
     "output_type": "display_data"
    }
   ],
   "source": [
    "ax = sns.barplot(x=year_df.index.values, y = year_df['bad_pct'] ).set_title('Year vs Bad Loan Percentage')"
   ]
  },
  {
   "cell_type": "code",
   "execution_count": 293,
   "metadata": {},
   "outputs": [],
   "source": [
    "month_df = pd.DataFrame()\n",
    "month_df['issue_count'] = df.groupby(['issue_month']).Target.count()\n",
    "month_df['issue_target'] = df.groupby(['issue_month']).Target.sum()\n",
    "month_df['bad_pct'] = (df.groupby(['issue_month']).Target.sum()/df.groupby(['issue_month']).Target.count())*100"
   ]
  },
  {
   "cell_type": "markdown",
   "metadata": {},
   "source": [
    "It appears that the months with the most loans issued are October, November and December. These months coincide with the holiday season in the U.S, a period of increased spending and thus consumer debt."
   ]
  },
  {
   "cell_type": "code",
   "execution_count": 294,
   "metadata": {},
   "outputs": [
    {
     "data": {
      "image/png": "[encoded data removed]",
      "text/plain": [
       "<matplotlib.figure.Figure at 0x1a74289910>"
      ]
     },
     "metadata": {},
     "output_type": "display_data"
    }
   ],
   "source": [
    "ax = sns.countplot(df['issue_month'], order = ['Jan','Feb','Mar','Apr','May','Jun','Jul','Aug','Sep','Oct','Nov','Dec'] ).set_title('Number of Loans Issued per Month')"
   ]
  },
  {
   "cell_type": "code",
   "execution_count": 295,
   "metadata": {},
   "outputs": [
    {
     "data": {
      "image/png": "[encoded data removed]",
      "text/plain": [
       "<matplotlib.figure.Figure at 0x1a74414a50>"
      ]
     },
     "metadata": {},
     "output_type": "display_data"
    }
   ],
   "source": [
    "ax = sns.barplot(x=month_df.index.values, y = month_df['bad_pct'],\n",
    "                 order = ['Jan','Feb','Mar','Apr','May','Jun','Jul','Aug','Sep','Oct','Nov','Dec']).set_title('Month vs Bad Loan Percentage')"
   ]
  },
  {
   "cell_type": "markdown",
   "metadata": {},
   "source": [
    "It is interesting to note how the bad loan percentage decreases gradually throughout the year."
   ]
  },
  {
   "cell_type": "markdown",
   "metadata": {},
   "source": [
    "## Member Financial and Demographic Characterstics"
   ]
  },
  {
   "cell_type": "markdown",
   "metadata": {},
   "source": [
    "### Debt to Income Ratio"
   ]
  },
  {
   "cell_type": "markdown",
   "metadata": {},
   "source": [
    "Debt to income ratio is a measure of financial health. It is one way lenders, including mortgage lenders, measure an individual's ability to manage monthly payment and repay debts. Dti is calculated by dividing total debt by total income. A high dti indicates a large amount of debt relative to income. \n",
    "\n",
    "The median dti in our dataset is 17.65, but there appears to be many outliers in this feature. The max dti is 9999 which is unusually high and worth a deeper investigation. "
   ]
  },
  {
   "cell_type": "code",
   "execution_count": 296,
   "metadata": {},
   "outputs": [
    {
     "data": {
      "text/plain": [
       "count    887379.000000\n",
       "mean         18.157039\n",
       "std          17.190626\n",
       "min           0.000000\n",
       "25%          11.910000\n",
       "50%          17.650000\n",
       "75%          23.950000\n",
       "max        9999.000000\n",
       "Name: dti, dtype: float64"
      ]
     },
     "execution_count": 296,
     "metadata": {},
     "output_type": "execute_result"
    }
   ],
   "source": [
    "df['dti'].describe()"
   ]
  },
  {
   "cell_type": "code",
   "execution_count": 297,
   "metadata": {},
   "outputs": [],
   "source": [
    "def remove_outlier(df_in, col_name):\n",
    "    q1 = df_in[col_name].quantile(0.25)\n",
    "    q3 = df_in[col_name].quantile(0.75)\n",
    "    iqr = q3-q1 \n",
    "    fence_low  = q1-1.5*iqr\n",
    "    fence_high = q3+1.5*iqr\n",
    "    df_out = df_in.loc[(df_in[col_name] > fence_low) & (df_in[col_name] < fence_high)]\n",
    "    return df_out\n",
    "\n",
    "df_out = remove_outlier(df, 'dti')"
   ]
  },
  {
   "cell_type": "markdown",
   "metadata": {},
   "source": [
    "The extremely large dti outliers that are skewing our distribution are the result of an extremely small or nonexistant income. It is not known whether or not these values are errors, but they are affecting our ability to visualize our dti data and will be removed for these purposes. "
   ]
  },
  {
   "cell_type": "code",
   "execution_count": 298,
   "metadata": {},
   "outputs": [
    {
     "name": "stdout",
     "output_type": "stream",
     "text": [
      "Skew with outliers: 441.486028815\n",
      "Skew with outliers removed: 0.226791073035\n"
     ]
    }
   ],
   "source": [
    "print('Skew with outliers: {}'.format(stats.skew(df['dti'])))\n",
    "print('Skew with outliers removed: {}'.format(stats.skew(df_out['dti'])))"
   ]
  },
  {
   "cell_type": "code",
   "execution_count": 299,
   "metadata": {},
   "outputs": [
    {
     "data": {
      "image/png": "[encoded data removed]",
      "text/plain": [
       "<matplotlib.figure.Figure at 0x1aa4cfe710>"
      ]
     },
     "metadata": {},
     "output_type": "display_data"
    }
   ],
   "source": [
    "ax = sns.distplot(df_out['dti'], hist=True, kde=False, \n",
    "             bins=25, hist_kws={'edgecolor':'black'}).set_title('Normalized dti Distribution')"
   ]
  },
  {
   "cell_type": "code",
   "execution_count": 300,
   "metadata": {},
   "outputs": [
    {
     "name": "stdout",
     "output_type": "stream",
     "text": [
      "Correlation with Target with Outliers: 0.0099613152071\n",
      "Correlation with Target without Outliers: 0.021573134933\n"
     ]
    }
   ],
   "source": [
    "print('Correlation with Target with Outliers: {}'.format(df['Target'].corr(df['dti'])))\n",
    "print('Correlation with Target without Outliers: {}'.format(df['Target'].corr(df_out['dti'])))"
   ]
  },
  {
   "cell_type": "markdown",
   "metadata": {},
   "source": [
    "### Annual Income"
   ]
  },
  {
   "cell_type": "markdown",
   "metadata": {},
   "source": [
    "Total amount of income earned annually by the borrower"
   ]
  },
  {
   "cell_type": "code",
   "execution_count": 301,
   "metadata": {},
   "outputs": [
    {
     "data": {
      "text/plain": [
       "count    8.873790e+05\n",
       "mean     7.502754e+04\n",
       "std      6.469816e+04\n",
       "min      0.000000e+00\n",
       "25%      4.500000e+04\n",
       "50%      6.500000e+04\n",
       "75%      9.000000e+04\n",
       "max      9.500000e+06\n",
       "Name: annual_inc, dtype: float64"
      ]
     },
     "execution_count": 301,
     "metadata": {},
     "output_type": "execute_result"
    }
   ],
   "source": [
    "df['annual_inc'].describe()"
   ]
  },
  {
   "cell_type": "code",
   "execution_count": 302,
   "metadata": {},
   "outputs": [],
   "source": [
    "df_out_inc = remove_outlier(df, 'annual_inc')"
   ]
  },
  {
   "cell_type": "markdown",
   "metadata": {},
   "source": [
    "The Annual Income distribution is skewed heavily rightward due to some extremely high income outliers. For visualization purposes, I have removed outliers. Even after removing outliers, it appears that the ditribution is still skewed rightward. I will normalize this feature prior to modeling."
   ]
  },
  {
   "cell_type": "code",
   "execution_count": 303,
   "metadata": {},
   "outputs": [
    {
     "data": {
      "image/png": "[encoded data removed]",
      "text/plain": [
       "<matplotlib.figure.Figure at 0x1aa4bf6ad0>"
      ]
     },
     "metadata": {},
     "output_type": "display_data"
    }
   ],
   "source": [
    "ax =sns.distplot(df_out_inc['annual_inc']).set_title('Annual Income Distribution')"
   ]
  },
  {
   "cell_type": "code",
   "execution_count": 304,
   "metadata": {},
   "outputs": [
    {
     "name": "stdout",
     "output_type": "stream",
     "text": [
      "Skew with outliers: 44.4785067863\n",
      "Skew with outliers removed: 0.730023749922\n"
     ]
    }
   ],
   "source": [
    "print('Skew with outliers: {}'.format(stats.skew(df['annual_inc'])))\n",
    "print('Skew with outliers removed: {}'.format(stats.skew(df_out_inc['annual_inc'])))"
   ]
  },
  {
   "cell_type": "code",
   "execution_count": 305,
   "metadata": {},
   "outputs": [
    {
     "name": "stdout",
     "output_type": "stream",
     "text": [
      "Annual Inc Correlation with Target: -0.0521681614855\n"
     ]
    }
   ],
   "source": [
    "print('Annual Inc Correlation with Target: {}'.format(df['Target'].corr(df_out_inc['annual_inc'])))"
   ]
  },
  {
   "cell_type": "markdown",
   "metadata": {},
   "source": [
    "### Home Ownership"
   ]
  },
  {
   "cell_type": "markdown",
   "metadata": {},
   "source": [
    "Home ownership status. (Rent, own, mortgage, other)"
   ]
  },
  {
   "cell_type": "code",
   "execution_count": 306,
   "metadata": {},
   "outputs": [
    {
     "data": {
      "text/plain": [
       "MORTGAGE    443557\n",
       "RENT        356117\n",
       "OWN          87470\n",
       "OTHER          182\n",
       "NONE            50\n",
       "ANY              3\n",
       "Name: home_ownership, dtype: int64"
      ]
     },
     "execution_count": 306,
     "metadata": {},
     "output_type": "execute_result"
    }
   ],
   "source": [
    "df['home_ownership'].value_counts()"
   ]
  },
  {
   "cell_type": "markdown",
   "metadata": {},
   "source": [
    "A large majority of borrowers either have a mortgage or rent their home. A smaller portion owns their home while very few fall under other, none or any."
   ]
  },
  {
   "cell_type": "code",
   "execution_count": 307,
   "metadata": {},
   "outputs": [
    {
     "data": {
      "text/plain": [
       "<matplotlib.axes._subplots.AxesSubplot at 0x1a74271e90>"
      ]
     },
     "execution_count": 307,
     "metadata": {},
     "output_type": "execute_result"
    },
    {
     "data": {
      "image/png": "[encoded data removed]",
      "text/plain": [
       "<matplotlib.figure.Figure at 0x1aa5949a90>"
      ]
     },
     "metadata": {},
     "output_type": "display_data"
    }
   ],
   "source": [
    "sns.countplot(df['home_ownership'])"
   ]
  },
  {
   "cell_type": "code",
   "execution_count": 308,
   "metadata": {},
   "outputs": [
    {
     "data": {
      "image/png": "[encoded data removed]",
      "text/plain": [
       "<matplotlib.figure.Figure at 0x1aa4d08b90>"
      ]
     },
     "metadata": {},
     "output_type": "display_data"
    }
   ],
   "source": [
    "ax = sns.countplot(y='home_ownership',  hue = 'Target', data= df)"
   ]
  },
  {
   "cell_type": "markdown",
   "metadata": {},
   "source": [
    "The three largest home ownership categories, mortgage, own, and rent all have similar bad loan percentages at around 6-8%. On the other hand, none and other had much larger bad loan percentages at around 16% to 20%. This larger proportion of bad loans may be due to their small size."
   ]
  },
  {
   "cell_type": "code",
   "execution_count": 309,
   "metadata": {},
   "outputs": [
    {
     "name": "stdout",
     "output_type": "stream",
     "text": [
      "                Number of Bad Loans  Total Number of Loans  \\\n",
      "home_ownership                                               \n",
      "ANY                               0                      3   \n",
      "MORTGAGE                      29699                 443557   \n",
      "NONE                              8                     50   \n",
      "OTHER                            38                    182   \n",
      "OWN                            6293                  87470   \n",
      "RENT                          31391                 356117   \n",
      "\n",
      "                Bad Loan Percentage  \n",
      "home_ownership                       \n",
      "ANY                        0.000000  \n",
      "MORTGAGE                   6.695645  \n",
      "NONE                      16.000000  \n",
      "OTHER                     20.879121  \n",
      "OWN                        7.194467  \n",
      "RENT                       8.814800  \n"
     ]
    }
   ],
   "source": [
    "home_df = pd.DataFrame()\n",
    "home_df['Number of Bad Loans'] = df.groupby('home_ownership').Target.sum()\n",
    "home_df['Total Number of Loans'] = df.groupby('home_ownership').Target.count()\n",
    "home_df['Bad Loan Percentage'] = home_df['Number of Bad Loans']/home_df['Total Number of Loans']*100\n",
    "print(home_df)"
   ]
  },
  {
   "cell_type": "markdown",
   "metadata": {},
   "source": [
    "### Geographical Location"
   ]
  },
  {
   "cell_type": "code",
   "execution_count": 310,
   "metadata": {},
   "outputs": [
    {
     "data": {
      "text/html": [
       "<script>requirejs.config({paths: { 'plotly': ['https://cdn.plot.ly/plotly-latest.min']},});if(!window.Plotly) {{require(['plotly'],function(plotly) {window.Plotly=plotly;});}}</script>"
      ],
      "text/vnd.plotly.v1+html": [
       "<script>requirejs.config({paths: { 'plotly': ['https://cdn.plot.ly/plotly-latest.min']},});if(!window.Plotly) {{require(['plotly'],function(plotly) {window.Plotly=plotly;});}}</script>"
      ]
     },
     "metadata": {},
     "output_type": "display_data"
    }
   ],
   "source": [
    "import plotly.plotly as py\n",
    "import plotly.graph_objs as go \n",
    "from plotly.offline import download_plotlyjs, init_notebook_mode, plot, iplot\n",
    "init_notebook_mode(connected=True) "
   ]
  },
  {
   "cell_type": "markdown",
   "metadata": {},
   "source": [
    "States with larger populations such as California, New York, and Texas seem to have the most loans issued per state. "
   ]
  },
  {
   "cell_type": "code",
   "execution_count": 311,
   "metadata": {},
   "outputs": [
    {
     "data": {
      "image/png": "[encoded data removed]",
      "text/plain": [
       "<matplotlib.figure.Figure at 0x1a803e7990>"
      ]
     },
     "metadata": {},
     "output_type": "display_data"
    }
   ],
   "source": [
    "plt.figure(figsize=(15,8))\n",
    "ax = sns.countplot(df['addr_state'])\n",
    "ax.set_xticklabels(ax.get_xticklabels(), fontsize=10)\n",
    "ax.set_title('Number of Loans Issued per State')\n",
    "plt.tight_layout()\n",
    "plt.show()"
   ]
  },
  {
   "cell_type": "code",
   "execution_count": 312,
   "metadata": {},
   "outputs": [],
   "source": [
    "state_loan_amnt = df.groupby(['addr_state'], as_index=False).loan_amnt.sum()\n",
    "states = state_loan_amnt['addr_state'].values.tolist()\n",
    "\n",
    "for col in state_loan_amnt.columns:\n",
    "    state_loan_amnt[col] = state_loan_amnt[col].astype(str)\n",
    "    \n",
    "state_loan_amnt['text'] = state_loan_amnt['addr_state'] "
   ]
  },
  {
   "cell_type": "code",
   "execution_count": 313,
   "metadata": {},
   "outputs": [
    {
     "data": {
      "application/vnd.plotly.v1+json": {
       "data": [
        {
         "colorbar": {
          "title": "US$"
         },
         "colorscale": "Portland",
         "locationmode": "USA-states",
         "locations": [
          "AK",
          "AL",
          "AR",
          "AZ",
          "CA",
          "CO",
          "CT",
          "DC",
          "DE",
          "FL",
          "GA",
          "HI",
          "IA",
          "ID",
          "IL",
          "IN",
          "KS",
          "KY",
          "LA",
          "MA",
          "MD",
          "ME",
          "MI",
          "MN",
          "MO",
          "MS",
          "MT",
          "NC",
          "ND",
          "NE",
          "NH",
          "NJ",
          "NM",
          "NV",
          "NY",
          "OH",
          "OK",
          "OR",
          "PA",
          "RI",
          "SC",
          "SD",
          "TN",
          "TX",
          "UT",
          "VA",
          "VT",
          "WA",
          "WI",
          "WV",
          "WY"
         ],
         "text": [
          "AK",
          "AL",
          "AR",
          "AZ",
          "CA",
          "CO",
          "CT",
          "DC",
          "DE",
          "FL",
          "GA",
          "HI",
          "IA",
          "ID",
          "IL",
          "IN",
          "KS",
          "KY",
          "LA",
          "MA",
          "MD",
          "ME",
          "MI",
          "MN",
          "MO",
          "MS",
          "MT",
          "NC",
          "ND",
          "NE",
          "NH",
          "NJ",
          "NM",
          "NV",
          "NY",
          "OH",
          "OK",
          "OR",
          "PA",
          "RI",
          "SC",
          "SD",
          "TN",
          "TX",
          "UT",
          "VA",
          "VT",
          "WA",
          "WI",
          "WV",
          "WY"
         ],
         "type": "choropleth",
         "z": [
          "36978050.0",
          "164627650.0",
          "93416075.0",
          "290110100.0",
          "1898145250.0",
          "281093375.0",
          "202956750.0",
          "36888475.0",
          "36916100.0",
          "848989075.0",
          "434709600.0",
          "69516300.0",
          "114075.0",
          "88350.0",
          "539068450.0",
          "202493900.0",
          "116395875.0",
          "122134075.0",
          "156927675.0",
          "322884475.0",
          "325456675.0",
          "8131825.0",
          "326467800.0",
          "228733450.0",
          "204867775.0",
          "57048750.0",
          "35297100.0",
          "361878125.0",
          "7447300.0",
          "17155050.0",
          "63555900.0",
          "515253000.0",
          "73662975.0",
          "172459575.0",
          "1076941975.0",
          "422675375.0",
          "120003025.0",
          "149352100.0",
          "455642875.0",
          "55052200.0",
          "157688600.0",
          "24896575.0",
          "191981650.0",
          "1109129575.0",
          "91856150.0",
          "411222050.0",
          "25173350.0",
          "289275875.0",
          "165405850.0",
          "64272975.0",
          "31072775.0"
         ]
        }
       ],
       "layout": {
        "geo": {
         "scope": "usa"
        },
        "title": "Loan Amount by State"
       }
      },
      "text/html": [
       "<div id=\"94be8d25-126a-4688-b11b-f3c57ba1cea0\" style=\"height: 525px; width: 100%;\" class=\"plotly-graph-div\"></div><script type=\"text/javascript\">require([\"plotly\"], function(Plotly) { window.PLOTLYENV=window.PLOTLYENV || {};window.PLOTLYENV.BASE_URL=\"https://plot.ly\";Plotly.newPlot(\"94be8d25-126a-4688-b11b-f3c57ba1cea0\", [{\"colorscale\": \"Portland\", \"text\": [\"AK\", \"AL\", \"AR\", \"AZ\", \"CA\", \"CO\", \"CT\", \"DC\", \"DE\", \"FL\", \"GA\", \"HI\", \"IA\", \"ID\", \"IL\", \"IN\", \"KS\", \"KY\", \"LA\", \"MA\", \"MD\", \"ME\", \"MI\", \"MN\", \"MO\", \"MS\", \"MT\", \"NC\", \"ND\", \"NE\", \"NH\", \"NJ\", \"NM\", \"NV\", \"NY\", \"OH\", \"OK\", \"OR\", \"PA\", \"RI\", \"SC\", \"SD\", \"TN\", \"TX\", \"UT\", \"VA\", \"VT\", \"WA\", \"WI\", \"WV\", \"WY\"], \"locations\": [\"AK\", \"AL\", \"AR\", \"AZ\", \"CA\", \"CO\", \"CT\", \"DC\", \"DE\", \"FL\", \"GA\", \"HI\", \"IA\", \"ID\", \"IL\", \"IN\", \"KS\", \"KY\", \"LA\", \"MA\", \"MD\", \"ME\", \"MI\", \"MN\", \"MO\", \"MS\", \"MT\", \"NC\", \"ND\", \"NE\", \"NH\", \"NJ\", \"NM\", \"NV\", \"NY\", \"OH\", \"OK\", \"OR\", \"PA\", \"RI\", \"SC\", \"SD\", \"TN\", \"TX\", \"UT\", \"VA\", \"VT\", \"WA\", \"WI\", \"WV\", \"WY\"], \"colorbar\": {\"title\": \"US$\"}, \"locationmode\": \"USA-states\", \"z\": [\"36978050.0\", \"164627650.0\", \"93416075.0\", \"290110100.0\", \"1898145250.0\", \"281093375.0\", \"202956750.0\", \"36888475.0\", \"36916100.0\", \"848989075.0\", \"434709600.0\", \"69516300.0\", \"114075.0\", \"88350.0\", \"539068450.0\", \"202493900.0\", \"116395875.0\", \"122134075.0\", \"156927675.0\", \"322884475.0\", \"325456675.0\", \"8131825.0\", \"326467800.0\", \"228733450.0\", \"204867775.0\", \"57048750.0\", \"35297100.0\", \"361878125.0\", \"7447300.0\", \"17155050.0\", \"63555900.0\", \"515253000.0\", \"73662975.0\", \"172459575.0\", \"1076941975.0\", \"422675375.0\", \"120003025.0\", \"149352100.0\", \"455642875.0\", \"55052200.0\", \"157688600.0\", \"24896575.0\", \"191981650.0\", \"1109129575.0\", \"91856150.0\", \"411222050.0\", \"25173350.0\", \"289275875.0\", \"165405850.0\", \"64272975.0\", \"31072775.0\"], \"type\": \"choropleth\"}], {\"geo\": {\"scope\": \"usa\"}, \"title\": \"Loan Amount by State\"}, {\"linkText\": \"Export to plot.ly\", \"showLink\": true})});</script>"
      ],
      "text/vnd.plotly.v1+html": [
       "<div id=\"94be8d25-126a-4688-b11b-f3c57ba1cea0\" style=\"height: 525px; width: 100%;\" class=\"plotly-graph-div\"></div><script type=\"text/javascript\">require([\"plotly\"], function(Plotly) { window.PLOTLYENV=window.PLOTLYENV || {};window.PLOTLYENV.BASE_URL=\"https://plot.ly\";Plotly.newPlot(\"94be8d25-126a-4688-b11b-f3c57ba1cea0\", [{\"colorscale\": \"Portland\", \"text\": [\"AK\", \"AL\", \"AR\", \"AZ\", \"CA\", \"CO\", \"CT\", \"DC\", \"DE\", \"FL\", \"GA\", \"HI\", \"IA\", \"ID\", \"IL\", \"IN\", \"KS\", \"KY\", \"LA\", \"MA\", \"MD\", \"ME\", \"MI\", \"MN\", \"MO\", \"MS\", \"MT\", \"NC\", \"ND\", \"NE\", \"NH\", \"NJ\", \"NM\", \"NV\", \"NY\", \"OH\", \"OK\", \"OR\", \"PA\", \"RI\", \"SC\", \"SD\", \"TN\", \"TX\", \"UT\", \"VA\", \"VT\", \"WA\", \"WI\", \"WV\", \"WY\"], \"locations\": [\"AK\", \"AL\", \"AR\", \"AZ\", \"CA\", \"CO\", \"CT\", \"DC\", \"DE\", \"FL\", \"GA\", \"HI\", \"IA\", \"ID\", \"IL\", \"IN\", \"KS\", \"KY\", \"LA\", \"MA\", \"MD\", \"ME\", \"MI\", \"MN\", \"MO\", \"MS\", \"MT\", \"NC\", \"ND\", \"NE\", \"NH\", \"NJ\", \"NM\", \"NV\", \"NY\", \"OH\", \"OK\", \"OR\", \"PA\", \"RI\", \"SC\", \"SD\", \"TN\", \"TX\", \"UT\", \"VA\", \"VT\", \"WA\", \"WI\", \"WV\", \"WY\"], \"colorbar\": {\"title\": \"US$\"}, \"locationmode\": \"USA-states\", \"z\": [\"36978050.0\", \"164627650.0\", \"93416075.0\", \"290110100.0\", \"1898145250.0\", \"281093375.0\", \"202956750.0\", \"36888475.0\", \"36916100.0\", \"848989075.0\", \"434709600.0\", \"69516300.0\", \"114075.0\", \"88350.0\", \"539068450.0\", \"202493900.0\", \"116395875.0\", \"122134075.0\", \"156927675.0\", \"322884475.0\", \"325456675.0\", \"8131825.0\", \"326467800.0\", \"228733450.0\", \"204867775.0\", \"57048750.0\", \"35297100.0\", \"361878125.0\", \"7447300.0\", \"17155050.0\", \"63555900.0\", \"515253000.0\", \"73662975.0\", \"172459575.0\", \"1076941975.0\", \"422675375.0\", \"120003025.0\", \"149352100.0\", \"455642875.0\", \"55052200.0\", \"157688600.0\", \"24896575.0\", \"191981650.0\", \"1109129575.0\", \"91856150.0\", \"411222050.0\", \"25173350.0\", \"289275875.0\", \"165405850.0\", \"64272975.0\", \"31072775.0\"], \"type\": \"choropleth\"}], {\"geo\": {\"scope\": \"usa\"}, \"title\": \"Loan Amount by State\"}, {\"linkText\": \"Export to plot.ly\", \"showLink\": true})});</script>"
      ]
     },
     "metadata": {},
     "output_type": "display_data"
    }
   ],
   "source": [
    "data = dict(type = 'choropleth',\n",
    "            locations = states,\n",
    "            z = state_loan_amnt['loan_amnt'],\n",
    "            locationmode = 'USA-states',\n",
    "            colorscale= 'Portland',\n",
    "            text= state_loan_amnt['text'],\n",
    "            colorbar = {'title':'US$'})\n",
    "\n",
    "layout = dict(title = 'Loan Amount by State',\n",
    "                geo = {'scope':'usa'})\n",
    "\n",
    "choromap = go.Figure(data = [data],layout = layout)\n",
    "\n",
    "iplot(choromap)"
   ]
  },
  {
   "cell_type": "markdown",
   "metadata": {},
   "source": [
    "This interactive visualization shows the total dollar amount of loans per state. The states with the largest loans issued seem to have the largest total dollar amount. These amounts range widly, with California generating 1.9 Billion in loans while Idaho generates only 88k. "
   ]
  },
  {
   "cell_type": "code",
   "execution_count": 314,
   "metadata": {},
   "outputs": [],
   "source": [
    "state_num_target = df.groupby(['addr_state'], as_index = False).Target.sum()\n",
    "state_num_loan = df.groupby(['addr_state'], as_index = False).Target.count()\n",
    "state_pct_target = state_num_target['Target']/state_num_loan['Target']*100\n",
    "state_avg_int_rate = df.groupby(['addr_state'], as_index = False).int_rate.mean()\n",
    "\n",
    "for col in state_num_target.columns:\n",
    "    state_num_target[col] = state_num_target[col].astype(str)\n",
    "    \n",
    "for col in state_num_loan.columns:\n",
    "    state_num_loan[col] = state_num_loan[col].astype(str)    \n",
    "\n",
    "for col in state_avg_int_rate.columns:\n",
    "    state_avg_int_rate[col] = state_avg_int_rate[col].astype(str) \n",
    "\n",
    "for col in state_pct_target.values:\n",
    "    state_pct_target.values.astype(str) \n",
    "    \n",
    "state_num_target['text'] = state_num_target['addr_state'] + '<br>' +\\\n",
    "'Number of Bad Loans: ' + state_num_target['Target'] + '<br>' + \\\n",
    "'Number of Total Loans: ' + state_num_loan['Target'] + '<br>' + \\\n",
    "'Average Interest Rate: ' + state_avg_int_rate['int_rate'] "
   ]
  },
  {
   "cell_type": "code",
   "execution_count": 315,
   "metadata": {},
   "outputs": [
    {
     "data": {
      "application/vnd.plotly.v1+json": {
       "data": [
        {
         "colorbar": {
          "title": "%"
         },
         "colorscale": "Portland",
         "locationmode": "USA-states",
         "locations": [
          "AK",
          "AL",
          "AR",
          "AZ",
          "CA",
          "CO",
          "CT",
          "DC",
          "DE",
          "FL",
          "GA",
          "HI",
          "IA",
          "ID",
          "IL",
          "IN",
          "KS",
          "KY",
          "LA",
          "MA",
          "MD",
          "ME",
          "MI",
          "MN",
          "MO",
          "MS",
          "MT",
          "NC",
          "ND",
          "NE",
          "NH",
          "NJ",
          "NM",
          "NV",
          "NY",
          "OH",
          "OK",
          "OR",
          "PA",
          "RI",
          "SC",
          "SD",
          "TN",
          "TX",
          "UT",
          "VA",
          "VT",
          "WA",
          "WI",
          "WV",
          "WY"
         ],
         "text": [
          "AK<br>Number of Bad Loans: 151<br>Number of Total Loans: 2205<br>Average Interest Rate: 13.6397913832",
          "AL<br>Number of Bad Loans: 993<br>Number of Total Loans: 11200<br>Average Interest Rate: 13.75715",
          "AR<br>Number of Bad Loans: 507<br>Number of Total Loans: 6640<br>Average Interest Rate: 13.4582153614",
          "AZ<br>Number of Bad Loans: 1581<br>Number of Total Loans: 20412<br>Average Interest Rate: 13.131356555",
          "CA<br>Number of Bad Loans: 10518<br>Number of Total Loans: 129517<br>Average Interest Rate: 13.1617177668",
          "CO<br>Number of Bad Loans: 1187<br>Number of Total Loans: 18807<br>Average Interest Rate: 13.0743228585",
          "CT<br>Number of Bad Loans: 922<br>Number of Total Loans: 13531<br>Average Interest Rate: 13.0687872293",
          "DC<br>Number of Bad Loans: 118<br>Number of Total Loans: 2432<br>Average Interest Rate: 12.7568379934",
          "DE<br>Number of Bad Loans: 189<br>Number of Total Loans: 2511<br>Average Interest Rate: 13.4532457188",
          "FL<br>Number of Bad Loans: 5148<br>Number of Total Loans: 60935<br>Average Interest Rate: 13.2728515631",
          "GA<br>Number of Bad Loans: 2061<br>Number of Total Loans: 29085<br>Average Interest Rate: 13.2730039539",
          "HI<br>Number of Bad Loans: 427<br>Number of Total Loans: 4570<br>Average Interest Rate: 13.922619256",
          "IA<br>Number of Bad Loans: 3<br>Number of Total Loans: 14<br>Average Interest Rate: 12.6314285714",
          "ID<br>Number of Bad Loans: 1<br>Number of Total Loans: 12<br>Average Interest Rate: 11.3458333333",
          "IL<br>Number of Bad Loans: 2258<br>Number of Total Loans: 35476<br>Average Interest Rate: 13.0960905965",
          "IN<br>Number of Bad Loans: 961<br>Number of Total Loans: 13789<br>Average Interest Rate: 13.4632286605",
          "KS<br>Number of Bad Loans: 491<br>Number of Total Loans: 7926<br>Average Interest Rate: 13.2809134494",
          "KY<br>Number of Bad Loans: 604<br>Number of Total Loans: 8550<br>Average Interest Rate: 13.3401298246",
          "LA<br>Number of Bad Loans: 855<br>Number of Total Loans: 10587<br>Average Interest Rate: 13.3485982809",
          "MA<br>Number of Bad Loans: 1523<br>Number of Total Loans: 20593<br>Average Interest Rate: 12.6616607585",
          "MD<br>Number of Bad Loans: 1683<br>Number of Total Loans: 21031<br>Average Interest Rate: 13.3800404165",
          "ME<br>Number of Bad Loans: 1<br>Number of Total Loans: 525<br>Average Interest Rate: 12.4646095238",
          "MI<br>Number of Bad Loans: 1715<br>Number of Total Loans: 22985<br>Average Interest Rate: 13.2961083315",
          "MN<br>Number of Bad Loans: 1183<br>Number of Total Loans: 15957<br>Average Interest Rate: 13.1507520211",
          "MO<br>Number of Bad Loans: 1084<br>Number of Total Loans: 14207<br>Average Interest Rate: 13.2460336454",
          "MS<br>Number of Bad Loans: 201<br>Number of Total Loans: 3819<br>Average Interest Rate: 13.4767190364",
          "MT<br>Number of Bad Loans: 167<br>Number of Total Loans: 2558<br>Average Interest Rate: 13.0688506646",
          "NC<br>Number of Bad Loans: 1971<br>Number of Total Loans: 24720<br>Average Interest Rate: 13.4221751618",
          "ND<br>Number of Bad Loans: 4<br>Number of Total Loans: 479<br>Average Interest Rate: 12.9005219207",
          "NE<br>Number of Bad Loans: 24<br>Number of Total Loans: 1176<br>Average Interest Rate: 12.9603231293",
          "NH<br>Number of Bad Loans: 245<br>Number of Total Loans: 4294<br>Average Interest Rate: 12.8523055426",
          "NJ<br>Number of Bad Loans: 2682<br>Number of Total Loans: 33256<br>Average Interest Rate: 13.150184929",
          "NM<br>Number of Bad Loans: 402<br>Number of Total Loans: 4939<br>Average Interest Rate: 13.3271087265",
          "NV<br>Number of Bad Loans: 1173<br>Number of Total Loans: 12443<br>Average Interest Rate: 13.470704814",
          "NY<br>Number of Bad Loans: 6289<br>Number of Total Loans: 74086<br>Average Interest Rate: 13.3268709338",
          "OH<br>Number of Bad Loans: 2135<br>Number of Total Loans: 29631<br>Average Interest Rate: 13.3323586784",
          "OK<br>Number of Bad Loans: 665<br>Number of Total Loans: 8085<br>Average Interest Rate: 13.4779517625",
          "OR<br>Number of Bad Loans: 776<br>Number of Total Loans: 10893<br>Average Interest Rate: 13.140087212",
          "PA<br>Number of Bad Loans: 2398<br>Number of Total Loans: 31393<br>Average Interest Rate: 13.3325817857",
          "RI<br>Number of Bad Loans: 292<br>Number of Total Loans: 3893<br>Average Interest Rate: 13.0876573337",
          "SC<br>Number of Bad Loans: 678<br>Number of Total Loans: 10639<br>Average Interest Rate: 13.4755625529",
          "SD<br>Number of Bad Loans: 141<br>Number of Total Loans: 1815<br>Average Interest Rate: 13.4262589532",
          "TN<br>Number of Bad Loans: 923<br>Number of Total Loans: 12887<br>Average Interest Rate: 13.5759129355",
          "TX<br>Number of Bad Loans: 4759<br>Number of Total Loans: 71138<br>Average Interest Rate: 13.160487222",
          "UT<br>Number of Bad Loans: 507<br>Number of Total Loans: 6264<br>Average Interest Rate: 13.3463122605",
          "VA<br>Number of Bad Loans: 2167<br>Number of Total Loans: 26255<br>Average Interest Rate: 13.2885686536",
          "VT<br>Number of Bad Loans: 98<br>Number of Total Loans: 1797<br>Average Interest Rate: 12.9623149694",
          "WA<br>Number of Bad Loans: 1408<br>Number of Total Loans: 19434<br>Average Interest Rate: 13.4026232376",
          "WI<br>Number of Bad Loans: 779<br>Number of Total Loans: 11574<br>Average Interest Rate: 12.9830127873",
          "WV<br>Number of Bad Loans: 264<br>Number of Total Loans: 4386<br>Average Interest Rate: 13.3547811218",
          "WY<br>Number of Bad Loans: 117<br>Number of Total Loans: 2028<br>Average Interest Rate: 13.3667751479"
         ],
         "type": "choropleth",
         "z": [
          6.848072562358276,
          8.866071428571429,
          7.635542168674698,
          7.745443856554967,
          8.12094165244717,
          6.311479768171425,
          6.813982706377947,
          4.8519736842105265,
          7.526881720430108,
          8.448346598834824,
          7.086126869520372,
          9.343544857768052,
          21.428571428571427,
          8.333333333333332,
          6.364866388544368,
          6.969323373703677,
          6.1948019177390865,
          7.064327485380117,
          8.075942193255878,
          7.395716991210606,
          8.0024725405354,
          0.19047619047619047,
          7.461387861648902,
          7.413674249545654,
          7.63004152882382,
          5.263157894736842,
          6.528537920250195,
          7.973300970873787,
          0.8350730688935281,
          2.0408163265306123,
          5.7056357708430365,
          8.06471012749579,
          8.139299453330635,
          9.426987060998151,
          8.488783305887752,
          7.20529175525632,
          8.225108225108226,
          7.123840998806573,
          7.638645557926926,
          7.500642178268688,
          6.372779396559827,
          7.768595041322314,
          7.162256537596027,
          6.6898141640192295,
          8.093869731800767,
          8.253665968386974,
          5.45353366722315,
          7.245034475661212,
          6.730603075859685,
          6.019151846785226,
          5.769230769230769
         ]
        }
       ],
       "layout": {
        "geo": {
         "scope": "usa"
        },
        "title": "Bad Loan % by State"
       }
      },
      "text/html": [
       "<div id=\"40592725-d57e-4d2e-8bda-84e5ebe8217d\" style=\"height: 525px; width: 100%;\" class=\"plotly-graph-div\"></div><script type=\"text/javascript\">require([\"plotly\"], function(Plotly) { window.PLOTLYENV=window.PLOTLYENV || {};window.PLOTLYENV.BASE_URL=\"https://plot.ly\";Plotly.newPlot(\"40592725-d57e-4d2e-8bda-84e5ebe8217d\", [{\"colorscale\": \"Portland\", \"text\": [\"AK<br>Number of Bad Loans: 151<br>Number of Total Loans: 2205<br>Average Interest Rate: 13.6397913832\", \"AL<br>Number of Bad Loans: 993<br>Number of Total Loans: 11200<br>Average Interest Rate: 13.75715\", \"AR<br>Number of Bad Loans: 507<br>Number of Total Loans: 6640<br>Average Interest Rate: 13.4582153614\", \"AZ<br>Number of Bad Loans: 1581<br>Number of Total Loans: 20412<br>Average Interest Rate: 13.131356555\", \"CA<br>Number of Bad Loans: 10518<br>Number of Total Loans: 129517<br>Average Interest Rate: 13.1617177668\", \"CO<br>Number of Bad Loans: 1187<br>Number of Total Loans: 18807<br>Average Interest Rate: 13.0743228585\", \"CT<br>Number of Bad Loans: 922<br>Number of Total Loans: 13531<br>Average Interest Rate: 13.0687872293\", \"DC<br>Number of Bad Loans: 118<br>Number of Total Loans: 2432<br>Average Interest Rate: 12.7568379934\", \"DE<br>Number of Bad Loans: 189<br>Number of Total Loans: 2511<br>Average Interest Rate: 13.4532457188\", \"FL<br>Number of Bad Loans: 5148<br>Number of Total Loans: 60935<br>Average Interest Rate: 13.2728515631\", \"GA<br>Number of Bad Loans: 2061<br>Number of Total Loans: 29085<br>Average Interest Rate: 13.2730039539\", \"HI<br>Number of Bad Loans: 427<br>Number of Total Loans: 4570<br>Average Interest Rate: 13.922619256\", \"IA<br>Number of Bad Loans: 3<br>Number of Total Loans: 14<br>Average Interest Rate: 12.6314285714\", \"ID<br>Number of Bad Loans: 1<br>Number of Total Loans: 12<br>Average Interest Rate: 11.3458333333\", \"IL<br>Number of Bad Loans: 2258<br>Number of Total Loans: 35476<br>Average Interest Rate: 13.0960905965\", \"IN<br>Number of Bad Loans: 961<br>Number of Total Loans: 13789<br>Average Interest Rate: 13.4632286605\", \"KS<br>Number of Bad Loans: 491<br>Number of Total Loans: 7926<br>Average Interest Rate: 13.2809134494\", \"KY<br>Number of Bad Loans: 604<br>Number of Total Loans: 8550<br>Average Interest Rate: 13.3401298246\", \"LA<br>Number of Bad Loans: 855<br>Number of Total Loans: 10587<br>Average Interest Rate: 13.3485982809\", \"MA<br>Number of Bad Loans: 1523<br>Number of Total Loans: 20593<br>Average Interest Rate: 12.6616607585\", \"MD<br>Number of Bad Loans: 1683<br>Number of Total Loans: 21031<br>Average Interest Rate: 13.3800404165\", \"ME<br>Number of Bad Loans: 1<br>Number of Total Loans: 525<br>Average Interest Rate: 12.4646095238\", \"MI<br>Number of Bad Loans: 1715<br>Number of Total Loans: 22985<br>Average Interest Rate: 13.2961083315\", \"MN<br>Number of Bad Loans: 1183<br>Number of Total Loans: 15957<br>Average Interest Rate: 13.1507520211\", \"MO<br>Number of Bad Loans: 1084<br>Number of Total Loans: 14207<br>Average Interest Rate: 13.2460336454\", \"MS<br>Number of Bad Loans: 201<br>Number of Total Loans: 3819<br>Average Interest Rate: 13.4767190364\", \"MT<br>Number of Bad Loans: 167<br>Number of Total Loans: 2558<br>Average Interest Rate: 13.0688506646\", \"NC<br>Number of Bad Loans: 1971<br>Number of Total Loans: 24720<br>Average Interest Rate: 13.4221751618\", \"ND<br>Number of Bad Loans: 4<br>Number of Total Loans: 479<br>Average Interest Rate: 12.9005219207\", \"NE<br>Number of Bad Loans: 24<br>Number of Total Loans: 1176<br>Average Interest Rate: 12.9603231293\", \"NH<br>Number of Bad Loans: 245<br>Number of Total Loans: 4294<br>Average Interest Rate: 12.8523055426\", \"NJ<br>Number of Bad Loans: 2682<br>Number of Total Loans: 33256<br>Average Interest Rate: 13.150184929\", \"NM<br>Number of Bad Loans: 402<br>Number of Total Loans: 4939<br>Average Interest Rate: 13.3271087265\", \"NV<br>Number of Bad Loans: 1173<br>Number of Total Loans: 12443<br>Average Interest Rate: 13.470704814\", \"NY<br>Number of Bad Loans: 6289<br>Number of Total Loans: 74086<br>Average Interest Rate: 13.3268709338\", \"OH<br>Number of Bad Loans: 2135<br>Number of Total Loans: 29631<br>Average Interest Rate: 13.3323586784\", \"OK<br>Number of Bad Loans: 665<br>Number of Total Loans: 8085<br>Average Interest Rate: 13.4779517625\", \"OR<br>Number of Bad Loans: 776<br>Number of Total Loans: 10893<br>Average Interest Rate: 13.140087212\", \"PA<br>Number of Bad Loans: 2398<br>Number of Total Loans: 31393<br>Average Interest Rate: 13.3325817857\", \"RI<br>Number of Bad Loans: 292<br>Number of Total Loans: 3893<br>Average Interest Rate: 13.0876573337\", \"SC<br>Number of Bad Loans: 678<br>Number of Total Loans: 10639<br>Average Interest Rate: 13.4755625529\", \"SD<br>Number of Bad Loans: 141<br>Number of Total Loans: 1815<br>Average Interest Rate: 13.4262589532\", \"TN<br>Number of Bad Loans: 923<br>Number of Total Loans: 12887<br>Average Interest Rate: 13.5759129355\", \"TX<br>Number of Bad Loans: 4759<br>Number of Total Loans: 71138<br>Average Interest Rate: 13.160487222\", \"UT<br>Number of Bad Loans: 507<br>Number of Total Loans: 6264<br>Average Interest Rate: 13.3463122605\", \"VA<br>Number of Bad Loans: 2167<br>Number of Total Loans: 26255<br>Average Interest Rate: 13.2885686536\", \"VT<br>Number of Bad Loans: 98<br>Number of Total Loans: 1797<br>Average Interest Rate: 12.9623149694\", \"WA<br>Number of Bad Loans: 1408<br>Number of Total Loans: 19434<br>Average Interest Rate: 13.4026232376\", \"WI<br>Number of Bad Loans: 779<br>Number of Total Loans: 11574<br>Average Interest Rate: 12.9830127873\", \"WV<br>Number of Bad Loans: 264<br>Number of Total Loans: 4386<br>Average Interest Rate: 13.3547811218\", \"WY<br>Number of Bad Loans: 117<br>Number of Total Loans: 2028<br>Average Interest Rate: 13.3667751479\"], \"locations\": [\"AK\", \"AL\", \"AR\", \"AZ\", \"CA\", \"CO\", \"CT\", \"DC\", \"DE\", \"FL\", \"GA\", \"HI\", \"IA\", \"ID\", \"IL\", \"IN\", \"KS\", \"KY\", \"LA\", \"MA\", \"MD\", \"ME\", \"MI\", \"MN\", \"MO\", \"MS\", \"MT\", \"NC\", \"ND\", \"NE\", \"NH\", \"NJ\", \"NM\", \"NV\", \"NY\", \"OH\", \"OK\", \"OR\", \"PA\", \"RI\", \"SC\", \"SD\", \"TN\", \"TX\", \"UT\", \"VA\", \"VT\", \"WA\", \"WI\", \"WV\", \"WY\"], \"colorbar\": {\"title\": \"%\"}, \"locationmode\": \"USA-states\", \"z\": [6.848072562358276, 8.866071428571429, 7.635542168674698, 7.745443856554967, 8.12094165244717, 6.311479768171425, 6.813982706377947, 4.8519736842105265, 7.526881720430108, 8.448346598834824, 7.086126869520372, 9.343544857768052, 21.428571428571427, 8.333333333333332, 6.364866388544368, 6.969323373703677, 6.1948019177390865, 7.064327485380117, 8.075942193255878, 7.395716991210606, 8.0024725405354, 0.19047619047619047, 7.461387861648902, 7.413674249545654, 7.63004152882382, 5.263157894736842, 6.528537920250195, 7.973300970873787, 0.8350730688935281, 2.0408163265306123, 5.7056357708430365, 8.06471012749579, 8.139299453330635, 9.426987060998151, 8.488783305887752, 7.20529175525632, 8.225108225108226, 7.123840998806573, 7.638645557926926, 7.500642178268688, 6.372779396559827, 7.768595041322314, 7.162256537596027, 6.6898141640192295, 8.093869731800767, 8.253665968386974, 5.45353366722315, 7.245034475661212, 6.730603075859685, 6.019151846785226, 5.769230769230769], \"type\": \"choropleth\"}], {\"geo\": {\"scope\": \"usa\"}, \"title\": \"Bad Loan % by State\"}, {\"linkText\": \"Export to plot.ly\", \"showLink\": true})});</script>"
      ],
      "text/vnd.plotly.v1+html": [
       "<div id=\"40592725-d57e-4d2e-8bda-84e5ebe8217d\" style=\"height: 525px; width: 100%;\" class=\"plotly-graph-div\"></div><script type=\"text/javascript\">require([\"plotly\"], function(Plotly) { window.PLOTLYENV=window.PLOTLYENV || {};window.PLOTLYENV.BASE_URL=\"https://plot.ly\";Plotly.newPlot(\"40592725-d57e-4d2e-8bda-84e5ebe8217d\", [{\"colorscale\": \"Portland\", \"text\": [\"AK<br>Number of Bad Loans: 151<br>Number of Total Loans: 2205<br>Average Interest Rate: 13.6397913832\", \"AL<br>Number of Bad Loans: 993<br>Number of Total Loans: 11200<br>Average Interest Rate: 13.75715\", \"AR<br>Number of Bad Loans: 507<br>Number of Total Loans: 6640<br>Average Interest Rate: 13.4582153614\", \"AZ<br>Number of Bad Loans: 1581<br>Number of Total Loans: 20412<br>Average Interest Rate: 13.131356555\", \"CA<br>Number of Bad Loans: 10518<br>Number of Total Loans: 129517<br>Average Interest Rate: 13.1617177668\", \"CO<br>Number of Bad Loans: 1187<br>Number of Total Loans: 18807<br>Average Interest Rate: 13.0743228585\", \"CT<br>Number of Bad Loans: 922<br>Number of Total Loans: 13531<br>Average Interest Rate: 13.0687872293\", \"DC<br>Number of Bad Loans: 118<br>Number of Total Loans: 2432<br>Average Interest Rate: 12.7568379934\", \"DE<br>Number of Bad Loans: 189<br>Number of Total Loans: 2511<br>Average Interest Rate: 13.4532457188\", \"FL<br>Number of Bad Loans: 5148<br>Number of Total Loans: 60935<br>Average Interest Rate: 13.2728515631\", \"GA<br>Number of Bad Loans: 2061<br>Number of Total Loans: 29085<br>Average Interest Rate: 13.2730039539\", \"HI<br>Number of Bad Loans: 427<br>Number of Total Loans: 4570<br>Average Interest Rate: 13.922619256\", \"IA<br>Number of Bad Loans: 3<br>Number of Total Loans: 14<br>Average Interest Rate: 12.6314285714\", \"ID<br>Number of Bad Loans: 1<br>Number of Total Loans: 12<br>Average Interest Rate: 11.3458333333\", \"IL<br>Number of Bad Loans: 2258<br>Number of Total Loans: 35476<br>Average Interest Rate: 13.0960905965\", \"IN<br>Number of Bad Loans: 961<br>Number of Total Loans: 13789<br>Average Interest Rate: 13.4632286605\", \"KS<br>Number of Bad Loans: 491<br>Number of Total Loans: 7926<br>Average Interest Rate: 13.2809134494\", \"KY<br>Number of Bad Loans: 604<br>Number of Total Loans: 8550<br>Average Interest Rate: 13.3401298246\", \"LA<br>Number of Bad Loans: 855<br>Number of Total Loans: 10587<br>Average Interest Rate: 13.3485982809\", \"MA<br>Number of Bad Loans: 1523<br>Number of Total Loans: 20593<br>Average Interest Rate: 12.6616607585\", \"MD<br>Number of Bad Loans: 1683<br>Number of Total Loans: 21031<br>Average Interest Rate: 13.3800404165\", \"ME<br>Number of Bad Loans: 1<br>Number of Total Loans: 525<br>Average Interest Rate: 12.4646095238\", \"MI<br>Number of Bad Loans: 1715<br>Number of Total Loans: 22985<br>Average Interest Rate: 13.2961083315\", \"MN<br>Number of Bad Loans: 1183<br>Number of Total Loans: 15957<br>Average Interest Rate: 13.1507520211\", \"MO<br>Number of Bad Loans: 1084<br>Number of Total Loans: 14207<br>Average Interest Rate: 13.2460336454\", \"MS<br>Number of Bad Loans: 201<br>Number of Total Loans: 3819<br>Average Interest Rate: 13.4767190364\", \"MT<br>Number of Bad Loans: 167<br>Number of Total Loans: 2558<br>Average Interest Rate: 13.0688506646\", \"NC<br>Number of Bad Loans: 1971<br>Number of Total Loans: 24720<br>Average Interest Rate: 13.4221751618\", \"ND<br>Number of Bad Loans: 4<br>Number of Total Loans: 479<br>Average Interest Rate: 12.9005219207\", \"NE<br>Number of Bad Loans: 24<br>Number of Total Loans: 1176<br>Average Interest Rate: 12.9603231293\", \"NH<br>Number of Bad Loans: 245<br>Number of Total Loans: 4294<br>Average Interest Rate: 12.8523055426\", \"NJ<br>Number of Bad Loans: 2682<br>Number of Total Loans: 33256<br>Average Interest Rate: 13.150184929\", \"NM<br>Number of Bad Loans: 402<br>Number of Total Loans: 4939<br>Average Interest Rate: 13.3271087265\", \"NV<br>Number of Bad Loans: 1173<br>Number of Total Loans: 12443<br>Average Interest Rate: 13.470704814\", \"NY<br>Number of Bad Loans: 6289<br>Number of Total Loans: 74086<br>Average Interest Rate: 13.3268709338\", \"OH<br>Number of Bad Loans: 2135<br>Number of Total Loans: 29631<br>Average Interest Rate: 13.3323586784\", \"OK<br>Number of Bad Loans: 665<br>Number of Total Loans: 8085<br>Average Interest Rate: 13.4779517625\", \"OR<br>Number of Bad Loans: 776<br>Number of Total Loans: 10893<br>Average Interest Rate: 13.140087212\", \"PA<br>Number of Bad Loans: 2398<br>Number of Total Loans: 31393<br>Average Interest Rate: 13.3325817857\", \"RI<br>Number of Bad Loans: 292<br>Number of Total Loans: 3893<br>Average Interest Rate: 13.0876573337\", \"SC<br>Number of Bad Loans: 678<br>Number of Total Loans: 10639<br>Average Interest Rate: 13.4755625529\", \"SD<br>Number of Bad Loans: 141<br>Number of Total Loans: 1815<br>Average Interest Rate: 13.4262589532\", \"TN<br>Number of Bad Loans: 923<br>Number of Total Loans: 12887<br>Average Interest Rate: 13.5759129355\", \"TX<br>Number of Bad Loans: 4759<br>Number of Total Loans: 71138<br>Average Interest Rate: 13.160487222\", \"UT<br>Number of Bad Loans: 507<br>Number of Total Loans: 6264<br>Average Interest Rate: 13.3463122605\", \"VA<br>Number of Bad Loans: 2167<br>Number of Total Loans: 26255<br>Average Interest Rate: 13.2885686536\", \"VT<br>Number of Bad Loans: 98<br>Number of Total Loans: 1797<br>Average Interest Rate: 12.9623149694\", \"WA<br>Number of Bad Loans: 1408<br>Number of Total Loans: 19434<br>Average Interest Rate: 13.4026232376\", \"WI<br>Number of Bad Loans: 779<br>Number of Total Loans: 11574<br>Average Interest Rate: 12.9830127873\", \"WV<br>Number of Bad Loans: 264<br>Number of Total Loans: 4386<br>Average Interest Rate: 13.3547811218\", \"WY<br>Number of Bad Loans: 117<br>Number of Total Loans: 2028<br>Average Interest Rate: 13.3667751479\"], \"locations\": [\"AK\", \"AL\", \"AR\", \"AZ\", \"CA\", \"CO\", \"CT\", \"DC\", \"DE\", \"FL\", \"GA\", \"HI\", \"IA\", \"ID\", \"IL\", \"IN\", \"KS\", \"KY\", \"LA\", \"MA\", \"MD\", \"ME\", \"MI\", \"MN\", \"MO\", \"MS\", \"MT\", \"NC\", \"ND\", \"NE\", \"NH\", \"NJ\", \"NM\", \"NV\", \"NY\", \"OH\", \"OK\", \"OR\", \"PA\", \"RI\", \"SC\", \"SD\", \"TN\", \"TX\", \"UT\", \"VA\", \"VT\", \"WA\", \"WI\", \"WV\", \"WY\"], \"colorbar\": {\"title\": \"%\"}, \"locationmode\": \"USA-states\", \"z\": [6.848072562358276, 8.866071428571429, 7.635542168674698, 7.745443856554967, 8.12094165244717, 6.311479768171425, 6.813982706377947, 4.8519736842105265, 7.526881720430108, 8.448346598834824, 7.086126869520372, 9.343544857768052, 21.428571428571427, 8.333333333333332, 6.364866388544368, 6.969323373703677, 6.1948019177390865, 7.064327485380117, 8.075942193255878, 7.395716991210606, 8.0024725405354, 0.19047619047619047, 7.461387861648902, 7.413674249545654, 7.63004152882382, 5.263157894736842, 6.528537920250195, 7.973300970873787, 0.8350730688935281, 2.0408163265306123, 5.7056357708430365, 8.06471012749579, 8.139299453330635, 9.426987060998151, 8.488783305887752, 7.20529175525632, 8.225108225108226, 7.123840998806573, 7.638645557926926, 7.500642178268688, 6.372779396559827, 7.768595041322314, 7.162256537596027, 6.6898141640192295, 8.093869731800767, 8.253665968386974, 5.45353366722315, 7.245034475661212, 6.730603075859685, 6.019151846785226, 5.769230769230769], \"type\": \"choropleth\"}], {\"geo\": {\"scope\": \"usa\"}, \"title\": \"Bad Loan % by State\"}, {\"linkText\": \"Export to plot.ly\", \"showLink\": true})});</script>"
      ]
     },
     "metadata": {},
     "output_type": "display_data"
    }
   ],
   "source": [
    "data = dict(type = 'choropleth',\n",
    "            locations = states,\n",
    "            z = state_pct_target.values,\n",
    "            locationmode = 'USA-states',\n",
    "            colorscale= 'Portland',\n",
    "            text= state_num_target['text'],\n",
    "            colorbar = {'title':'%'})\n",
    "\n",
    "layout = dict(title = 'Bad Loan % by State',\n",
    "                geo = {'scope':'usa'})\n",
    "\n",
    "choromap = go.Figure(data = [data],layout = layout)\n",
    "\n",
    "iplot(choromap)"
   ]
  },
  {
   "cell_type": "markdown",
   "metadata": {},
   "source": [
    "This interactive visualization shows the various bad loan percentage for each respective state. States like Iowa, Nevada and Hawaii had the highest bad loan percentages while Maine, North Dakota and Nebraska had the lowest. Lending Club could use this information to target their marketing to regions with lower bad loan percentages."
   ]
  },
  {
   "cell_type": "markdown",
   "metadata": {},
   "source": [
    "### Employment Length"
   ]
  },
  {
   "cell_type": "markdown",
   "metadata": {},
   "source": [
    "Employment Length is a measure of how long the borrower has been employed. Values range from 0-10+, with most borrowers having 10 or more years employed."
   ]
  },
  {
   "cell_type": "code",
   "execution_count": 316,
   "metadata": {},
   "outputs": [
    {
     "data": {
      "text/plain": [
       "Text(0.5,1,u'Employment Length Count')"
      ]
     },
     "execution_count": 316,
     "metadata": {},
     "output_type": "execute_result"
    },
    {
     "data": {
      "image/png": "[encoded data removed]",
      "text/plain": [
       "<matplotlib.figure.Figure at 0x1aa5949c90>"
      ]
     },
     "metadata": {},
     "output_type": "display_data"
    }
   ],
   "source": [
    "sns.countplot(df['emp_length'], order = ['0','1','2','3','4','5','6','7','8','9','10']).set_title('Employment Length Count')"
   ]
  },
  {
   "cell_type": "code",
   "execution_count": 317,
   "metadata": {},
   "outputs": [
    {
     "data": {
      "text/plain": [
       "Text(0.5,1,u'Employment Length Count')"
      ]
     },
     "execution_count": 317,
     "metadata": {},
     "output_type": "execute_result"
    },
    {
     "data": {
      "image/png": "[encoded data removed]",
      "text/plain": [
       "<matplotlib.figure.Figure at 0x1a73275310>"
      ]
     },
     "metadata": {},
     "output_type": "display_data"
    }
   ],
   "source": [
    "sns.countplot(df['emp_length'], hue = df['Target'],\n",
    "              order = ['0','1','2','3','4','5','6','7','8','9','10']).set_title('Employment Length Count')"
   ]
  },
  {
   "cell_type": "code",
   "execution_count": 318,
   "metadata": {},
   "outputs": [
    {
     "name": "stdout",
     "output_type": "stream",
     "text": [
      "            total_bad  total_loan   bad_pct\n",
      "emp_length                                 \n",
      "0                3710       44825  8.276631\n",
      "1               10309      127700  8.072827\n",
      "10              19856      291569  6.810052\n",
      "2                6034       78870  7.650564\n",
      "3                5396       70026  7.705709\n",
      "4                4089       52529  7.784272\n",
      "5                4540       55704  8.150223\n",
      "6                3840       42950  8.940629\n",
      "7                3730       44594  8.364354\n",
      "8                3258       43955  7.412126\n",
      "9                2667       34657  7.695415\n"
     ]
    }
   ],
   "source": [
    "length_df = pd.DataFrame()\n",
    "length_df['total_bad'] = df.groupby('emp_length').Target.sum()\n",
    "length_df['total_loan']= df.groupby('emp_length').Target.count()\n",
    "length_df['bad_pct'] = (length_df['total_bad']/length_df['total_loan']) * 100\n",
    "print(length_df)"
   ]
  },
  {
   "cell_type": "markdown",
   "metadata": {},
   "source": [
    "It is clear that the target variable is not correlated with employment length at all. Most employment length categories have a bad loan percentage of 6-8%."
   ]
  },
  {
   "cell_type": "markdown",
   "metadata": {},
   "source": [
    "## Preparation for Modelling"
   ]
  },
  {
   "cell_type": "markdown",
   "metadata": {},
   "source": [
    "Next, we want to see how many unique values each column has. If a column is non-continuous and has a large amount of unique values, we will get rid of it. "
   ]
  },
  {
   "cell_type": "code",
   "execution_count": 333,
   "metadata": {
    "scrolled": true
   },
   "outputs": [
    {
     "name": "stdout",
     "output_type": "stream",
     "text": [
      "member_id 887379 \n",
      "loan_amnt 1372 \n",
      "funded_amnt 1372 \n",
      "funded_amnt_inv 9856 \n",
      "term 2 \n",
      "int_rate 542 \n",
      "installment 68711 \n",
      "grade 7 \n",
      "sub_grade 35 \n",
      "emp_title 299271 \n",
      "emp_length 11 \n",
      "home_ownership 6 \n",
      "annual_inc 49384 \n",
      "verification_status 3 \n",
      "loan_status 10 \n",
      "pymnt_plan 2 \n",
      "url 887379 \n",
      "purpose 14 \n",
      "title 63144 \n",
      "zip_code 935 \n",
      "addr_state 51 \n",
      "dti 4086 \n",
      "delinq_2yrs 29 \n",
      "earliest_cr_line 697 \n",
      "inq_last_6mths 28 \n",
      "mths_since_last_delinq 155 \n",
      "open_acc 77 \n",
      "pub_rec 32 \n",
      "revol_bal 73740 \n",
      "revol_util 1356 \n",
      "total_acc 135 \n",
      "initial_list_status 2 \n",
      "out_prncp 248332 \n",
      "out_prncp_inv 266244 \n",
      "total_pymnt 506726 \n",
      "total_pymnt_inv 506616 \n",
      "total_rec_prncp 260227 \n",
      "total_rec_int 324635 \n",
      "total_rec_late_fee 6181 \n",
      "recoveries 23055 \n",
      "collection_recovery_fee 20708 \n",
      "last_pymnt_d 98 \n",
      "last_pymnt_amnt 232451 \n",
      "next_pymnt_d 100 \n",
      "last_credit_pull_d 103 \n",
      "collections_12_mths_ex_med 12 \n",
      "policy_code 1 \n",
      "application_type 2 \n",
      "acc_now_delinq 8 \n",
      "tot_coll_amt 10325 \n",
      "tot_cur_bal 327342 \n",
      "total_rev_hi_lim 21251 \n",
      "issue_year 9 \n",
      "issue_month 12 \n",
      "Target 2 \n"
     ]
    }
   ],
   "source": [
    "for col in df:\n",
    "        print(\"%s %d \" % (col,df[col].nunique()))"
   ]
  },
  {
   "cell_type": "code",
   "execution_count": 334,
   "metadata": {},
   "outputs": [],
   "source": [
    "df.drop(columns = ['emp_title','url', 'member_id' ,'title','zip_code','policy_code',\n",
    "                  'verification_status','earliest_cr_line','last_pymnt_d',\n",
    "                'next_pymnt_d', 'last_credit_pull_d', 'emp_length', 'sub_grade'],  inplace = True)"
   ]
  },
  {
   "cell_type": "code",
   "execution_count": 335,
   "metadata": {},
   "outputs": [],
   "source": [
    "train_df = df.copy()\n",
    "train_df.drop(columns = ['loan_status'], inplace = True)"
   ]
  },
  {
   "cell_type": "code",
   "execution_count": 336,
   "metadata": {
    "scrolled": true
   },
   "outputs": [
    {
     "data": {
      "text/plain": [
       "term                    2\n",
       "grade                   7\n",
       "home_ownership          6\n",
       "pymnt_plan              2\n",
       "purpose                14\n",
       "addr_state             51\n",
       "initial_list_status     2\n",
       "application_type        2\n",
       "issue_year              9\n",
       "issue_month            12\n",
       "dtype: int64"
      ]
     },
     "execution_count": 336,
     "metadata": {},
     "output_type": "execute_result"
    }
   ],
   "source": [
    "train_df.select_dtypes('object').apply(pd.Series.nunique, axis = 0)"
   ]
  },
  {
   "cell_type": "markdown",
   "metadata": {},
   "source": [
    "In order to build our model, we must label encode our categorical features with <=2 possible values and hot encode features with >2 possible values"
   ]
  },
  {
   "cell_type": "code",
   "execution_count": 337,
   "metadata": {},
   "outputs": [],
   "source": [
    "from sklearn import preprocessing\n",
    "\n",
    "count = 0\n",
    "\n",
    "for col in train_df:\n",
    "    if train_df[col].dtype == 'object':\n",
    "        if len(list(train_df[col].unique())) <= 2:     \n",
    "            label_encode = preprocessing.LabelEncoder()\n",
    "            train_df[col] = label_encode.fit_transform(train_df[col])\n",
    "            count += 1"
   ]
  },
  {
   "cell_type": "code",
   "execution_count": 338,
   "metadata": {},
   "outputs": [
    {
     "data": {
      "text/html": [
       "<div>\n",
       "<style scoped>\n",
       "    .dataframe tbody tr th:only-of-type {\n",
       "        vertical-align: middle;\n",
       "    }\n",
       "\n",
       "    .dataframe tbody tr th {\n",
       "        vertical-align: top;\n",
       "    }\n",
       "\n",
       "    .dataframe thead th {\n",
       "        text-align: right;\n",
       "    }\n",
       "</style>\n",
       "<table border=\"1\" class=\"dataframe\">\n",
       "  <thead>\n",
       "    <tr style=\"text-align: right;\">\n",
       "      <th></th>\n",
       "      <th>loan_amnt</th>\n",
       "      <th>funded_amnt</th>\n",
       "      <th>funded_amnt_inv</th>\n",
       "      <th>term</th>\n",
       "      <th>int_rate</th>\n",
       "      <th>installment</th>\n",
       "      <th>grade</th>\n",
       "      <th>home_ownership</th>\n",
       "      <th>annual_inc</th>\n",
       "      <th>pymnt_plan</th>\n",
       "      <th>...</th>\n",
       "      <th>last_pymnt_amnt</th>\n",
       "      <th>collections_12_mths_ex_med</th>\n",
       "      <th>application_type</th>\n",
       "      <th>acc_now_delinq</th>\n",
       "      <th>tot_coll_amt</th>\n",
       "      <th>tot_cur_bal</th>\n",
       "      <th>total_rev_hi_lim</th>\n",
       "      <th>issue_year</th>\n",
       "      <th>issue_month</th>\n",
       "      <th>Target</th>\n",
       "    </tr>\n",
       "    <tr>\n",
       "      <th>id</th>\n",
       "      <th></th>\n",
       "      <th></th>\n",
       "      <th></th>\n",
       "      <th></th>\n",
       "      <th></th>\n",
       "      <th></th>\n",
       "      <th></th>\n",
       "      <th></th>\n",
       "      <th></th>\n",
       "      <th></th>\n",
       "      <th></th>\n",
       "      <th></th>\n",
       "      <th></th>\n",
       "      <th></th>\n",
       "      <th></th>\n",
       "      <th></th>\n",
       "      <th></th>\n",
       "      <th></th>\n",
       "      <th></th>\n",
       "      <th></th>\n",
       "      <th></th>\n",
       "    </tr>\n",
       "  </thead>\n",
       "  <tbody>\n",
       "    <tr>\n",
       "      <th>1077501</th>\n",
       "      <td>5000.0</td>\n",
       "      <td>5000.0</td>\n",
       "      <td>4975.0</td>\n",
       "      <td>0</td>\n",
       "      <td>10.65</td>\n",
       "      <td>162.87</td>\n",
       "      <td>B</td>\n",
       "      <td>RENT</td>\n",
       "      <td>24000.0</td>\n",
       "      <td>0</td>\n",
       "      <td>...</td>\n",
       "      <td>171.62</td>\n",
       "      <td>0.0</td>\n",
       "      <td>0</td>\n",
       "      <td>0.0</td>\n",
       "      <td>0.0</td>\n",
       "      <td>80559.0</td>\n",
       "      <td>23700.0</td>\n",
       "      <td>2011</td>\n",
       "      <td>Dec</td>\n",
       "      <td>0</td>\n",
       "    </tr>\n",
       "    <tr>\n",
       "      <th>1077430</th>\n",
       "      <td>2500.0</td>\n",
       "      <td>2500.0</td>\n",
       "      <td>2500.0</td>\n",
       "      <td>1</td>\n",
       "      <td>15.27</td>\n",
       "      <td>59.83</td>\n",
       "      <td>C</td>\n",
       "      <td>RENT</td>\n",
       "      <td>30000.0</td>\n",
       "      <td>0</td>\n",
       "      <td>...</td>\n",
       "      <td>119.66</td>\n",
       "      <td>0.0</td>\n",
       "      <td>0</td>\n",
       "      <td>0.0</td>\n",
       "      <td>0.0</td>\n",
       "      <td>80559.0</td>\n",
       "      <td>23700.0</td>\n",
       "      <td>2011</td>\n",
       "      <td>Dec</td>\n",
       "      <td>1</td>\n",
       "    </tr>\n",
       "    <tr>\n",
       "      <th>1077175</th>\n",
       "      <td>2400.0</td>\n",
       "      <td>2400.0</td>\n",
       "      <td>2400.0</td>\n",
       "      <td>0</td>\n",
       "      <td>15.96</td>\n",
       "      <td>84.33</td>\n",
       "      <td>C</td>\n",
       "      <td>RENT</td>\n",
       "      <td>12252.0</td>\n",
       "      <td>0</td>\n",
       "      <td>...</td>\n",
       "      <td>649.91</td>\n",
       "      <td>0.0</td>\n",
       "      <td>0</td>\n",
       "      <td>0.0</td>\n",
       "      <td>0.0</td>\n",
       "      <td>80559.0</td>\n",
       "      <td>23700.0</td>\n",
       "      <td>2011</td>\n",
       "      <td>Dec</td>\n",
       "      <td>0</td>\n",
       "    </tr>\n",
       "    <tr>\n",
       "      <th>1076863</th>\n",
       "      <td>10000.0</td>\n",
       "      <td>10000.0</td>\n",
       "      <td>10000.0</td>\n",
       "      <td>0</td>\n",
       "      <td>13.49</td>\n",
       "      <td>339.31</td>\n",
       "      <td>C</td>\n",
       "      <td>RENT</td>\n",
       "      <td>49200.0</td>\n",
       "      <td>0</td>\n",
       "      <td>...</td>\n",
       "      <td>357.48</td>\n",
       "      <td>0.0</td>\n",
       "      <td>0</td>\n",
       "      <td>0.0</td>\n",
       "      <td>0.0</td>\n",
       "      <td>80559.0</td>\n",
       "      <td>23700.0</td>\n",
       "      <td>2011</td>\n",
       "      <td>Dec</td>\n",
       "      <td>0</td>\n",
       "    </tr>\n",
       "    <tr>\n",
       "      <th>1075358</th>\n",
       "      <td>3000.0</td>\n",
       "      <td>3000.0</td>\n",
       "      <td>3000.0</td>\n",
       "      <td>1</td>\n",
       "      <td>12.69</td>\n",
       "      <td>67.79</td>\n",
       "      <td>B</td>\n",
       "      <td>RENT</td>\n",
       "      <td>80000.0</td>\n",
       "      <td>0</td>\n",
       "      <td>...</td>\n",
       "      <td>67.79</td>\n",
       "      <td>0.0</td>\n",
       "      <td>0</td>\n",
       "      <td>0.0</td>\n",
       "      <td>0.0</td>\n",
       "      <td>80559.0</td>\n",
       "      <td>23700.0</td>\n",
       "      <td>2011</td>\n",
       "      <td>Dec</td>\n",
       "      <td>0</td>\n",
       "    </tr>\n",
       "  </tbody>\n",
       "</table>\n",
       "<p>5 rows × 41 columns</p>\n",
       "</div>"
      ],
      "text/plain": [
       "         loan_amnt  funded_amnt  funded_amnt_inv  term  int_rate  installment  \\\n",
       "id                                                                              \n",
       "1077501     5000.0       5000.0           4975.0     0     10.65       162.87   \n",
       "1077430     2500.0       2500.0           2500.0     1     15.27        59.83   \n",
       "1077175     2400.0       2400.0           2400.0     0     15.96        84.33   \n",
       "1076863    10000.0      10000.0          10000.0     0     13.49       339.31   \n",
       "1075358     3000.0       3000.0           3000.0     1     12.69        67.79   \n",
       "\n",
       "        grade home_ownership  annual_inc  pymnt_plan   ...   last_pymnt_amnt  \\\n",
       "id                                                     ...                     \n",
       "1077501     B           RENT     24000.0           0   ...            171.62   \n",
       "1077430     C           RENT     30000.0           0   ...            119.66   \n",
       "1077175     C           RENT     12252.0           0   ...            649.91   \n",
       "1076863     C           RENT     49200.0           0   ...            357.48   \n",
       "1075358     B           RENT     80000.0           0   ...             67.79   \n",
       "\n",
       "        collections_12_mths_ex_med  application_type  acc_now_delinq  \\\n",
       "id                                                                     \n",
       "1077501                        0.0                 0             0.0   \n",
       "1077430                        0.0                 0             0.0   \n",
       "1077175                        0.0                 0             0.0   \n",
       "1076863                        0.0                 0             0.0   \n",
       "1075358                        0.0                 0             0.0   \n",
       "\n",
       "         tot_coll_amt  tot_cur_bal  total_rev_hi_lim  issue_year  issue_month  \\\n",
       "id                                                                              \n",
       "1077501           0.0      80559.0           23700.0        2011          Dec   \n",
       "1077430           0.0      80559.0           23700.0        2011          Dec   \n",
       "1077175           0.0      80559.0           23700.0        2011          Dec   \n",
       "1076863           0.0      80559.0           23700.0        2011          Dec   \n",
       "1075358           0.0      80559.0           23700.0        2011          Dec   \n",
       "\n",
       "         Target  \n",
       "id               \n",
       "1077501       0  \n",
       "1077430       1  \n",
       "1077175       0  \n",
       "1076863       0  \n",
       "1075358       0  \n",
       "\n",
       "[5 rows x 41 columns]"
      ]
     },
     "execution_count": 338,
     "metadata": {},
     "output_type": "execute_result"
    }
   ],
   "source": [
    "train_df.head()"
   ]
  },
  {
   "cell_type": "code",
   "execution_count": 339,
   "metadata": {},
   "outputs": [
    {
     "name": "stdout",
     "output_type": "stream",
     "text": [
      "(887379, 134)\n"
     ]
    }
   ],
   "source": [
    "train_df = pd.get_dummies(train_df)\n",
    "print(train_df.shape)"
   ]
  },
  {
   "cell_type": "markdown",
   "metadata": {},
   "source": [
    "## Principal Component Analysis"
   ]
  },
  {
   "cell_type": "markdown",
   "metadata": {},
   "source": [
    "I will perform a brief Principal Component Analysis to attempt to reduce the amount of training features without losing any explained variance. Because this dataset is so large and high dimensional, reducing the number of features in any way will help reduce training time for my model."
   ]
  },
  {
   "cell_type": "code",
   "execution_count": 235,
   "metadata": {},
   "outputs": [],
   "source": [
    "import sklearn\n",
    "from sklearn import decomposition\n",
    "from sklearn.decomposition import PCA\n",
    "from sklearn.preprocessing import scale"
   ]
  },
  {
   "cell_type": "code",
   "execution_count": 236,
   "metadata": {},
   "outputs": [
    {
     "name": "stdout",
     "output_type": "stream",
     "text": [
      "The Lending Club data comprises 887379 192-dimensional representations of members.\n"
     ]
    }
   ],
   "source": [
    "print('The Lending Club data comprises {} {}-dimensional representations of members.'.format(\n",
    "        train_df.shape[0],\n",
    "        train_df.shape[1]))\n"
   ]
  },
  {
   "cell_type": "code",
   "execution_count": 237,
   "metadata": {},
   "outputs": [
    {
     "data": {
      "image/png": "[encoded data removed]",
      "text/plain": [
       "<matplotlib.figure.Figure at 0x1a357d3810>"
      ]
     },
     "metadata": {},
     "output_type": "display_data"
    }
   ],
   "source": [
    "pca = PCA()\n",
    "data = scale(train_df)\n",
    "df_pca = pca.fit_transform(data)\n",
    "\n",
    "var=np.cumsum(np.round(pca.explained_variance_ratio_, decimals=3))\n",
    "plt.ylabel('% Variance Explained')\n",
    "plt.xlabel('# of Features')\n",
    "plt.title('PCA Analysis')\n",
    "plt.plot(var)\n",
    "plt.show()"
   ]
  },
  {
   "cell_type": "code",
   "execution_count": 238,
   "metadata": {},
   "outputs": [],
   "source": [
    "pca = PCA(n_components=150)\n",
    "data = scale(train_df)\n",
    "df_pca = pca.fit_transform(data)"
   ]
  },
  {
   "cell_type": "code",
   "execution_count": 239,
   "metadata": {},
   "outputs": [
    {
     "name": "stdout",
     "output_type": "stream",
     "text": [
      "The Lending Club data comprises 887379 150-dimensional representations of members.\n"
     ]
    }
   ],
   "source": [
    "print('The Lending Club data comprises {} {}-dimensional representations of members.'.format(\n",
    "        df_pca.shape[0],\n",
    "        df_pca.shape[1]))"
   ]
  },
  {
   "cell_type": "markdown",
   "metadata": {},
   "source": [
    "## Modeling"
   ]
  },
  {
   "cell_type": "markdown",
   "metadata": {},
   "source": [
    "First, I create a baseline logistic regression model "
   ]
  },
  {
   "cell_type": "code",
   "execution_count": 240,
   "metadata": {},
   "outputs": [],
   "source": [
    "from sklearn.model_selection import train_test_split"
   ]
  },
  {
   "cell_type": "code",
   "execution_count": 241,
   "metadata": {},
   "outputs": [],
   "source": [
    "X_train, X_test, Y_train, Y_test = train_test_split(train_df.drop('Target',axis=1), \n",
    "                                                    train_df['Target'], test_size=0.2)"
   ]
  },
  {
   "cell_type": "code",
   "execution_count": 242,
   "metadata": {},
   "outputs": [],
   "source": [
    "from sklearn.metrics import classification_report\n",
    "from sklearn.metrics import confusion_matrix\n",
    "from sklearn.metrics import precision_recall_curve\n",
    "from sklearn.metrics import auc\n",
    "from sklearn.metrics import roc_auc_score\n",
    "from sklearn.metrics import roc_curve\n",
    "from sklearn.metrics import recall_score\n",
    "from sklearn.metrics import accuracy_score\n",
    "from sklearn.metrics import cohen_kappa_score\n",
    "\n",
    "def performance_report(model, predictions, X_test, Y_test):\n",
    "    print('Cohen Kappa Score:', cohen_kappa_score(Y_test,predictions))\n",
    "    print(' ')\n",
    "    print('Classification Report')\n",
    "    print(' ')\n",
    "    print(classification_report(Y_test,predictions))\n",
    "    y_true = pd.Series(Y_test, name='Actual')\n",
    "    y_pred = pd.Series(model.predict(X_test), name='Predicted')\n",
    "    conf_matrix = confusion_matrix(y_true, y_pred)\n",
    "    print('Confusion Matrix')\n",
    "    print('')\n",
    "    print('Predicted   0       1')\n",
    "    print('Actual')\n",
    "    print('0' + '         '+ str(conf_matrix[0][0]) + '    ' +str(conf_matrix[0][1]))\n",
    "    print('1' + '         '+ str(conf_matrix[1][0]) + '    ' +str(conf_matrix[1][1]))\n",
    "    print(' ')\n",
    "    print('Confusion matrix (0 = \"good\" loan 1 = \"bad\" loan)')\n",
    "    _ = plt.matshow(confusion_matrix(model.predict(X_test) , Y_test ), cmap=plt.cm.binary, interpolation='nearest')\n",
    "    _ = plt.colorbar()\n",
    "    _ = plt.ylabel('true label')\n",
    "    _ = plt.xlabel('predicted label')"
   ]
  },
  {
   "cell_type": "code",
   "execution_count": 243,
   "metadata": {},
   "outputs": [],
   "source": [
    "def ROC_curve(model, X_train, Y_train, X_test, Y_test):\n",
    "    tmp = model.fit(X_train, Y_train)\n",
    "    y_pred_sample_score = tmp.decision_function(X_test)\n",
    "\n",
    "\n",
    "    fpr, tpr, thresholds = roc_curve(Y_test, y_pred_sample_score)\n",
    "\n",
    "    roc_auc = auc(fpr,tpr)\n",
    "\n",
    "\n",
    "    plt.title('ROC Curve')\n",
    "    plt.plot(fpr, tpr, 'b',label='AUC = %0.3f'% roc_auc)\n",
    "    plt.legend(loc='lower right')\n",
    "    plt.plot([0,1],[0,1],'r--')\n",
    "    plt.xlim([-0.1,1.0])\n",
    "    plt.ylim([-0.1,1.01])\n",
    "    plt.ylabel('True Positive Rate')\n",
    "    plt.xlabel('False Positive Rate')\n",
    "    plt.show()"
   ]
  },
  {
   "cell_type": "code",
   "execution_count": 244,
   "metadata": {},
   "outputs": [
    {
     "name": "stdout",
     "output_type": "stream",
     "text": [
      "('Cohen Kappa Score:', 0.78275221093270375)\n",
      " \n",
      "Classification Report\n",
      " \n",
      "             precision    recall  f1-score   support\n",
      "\n",
      "          0       0.97      1.00      0.99    163887\n",
      "          1       0.99      0.66      0.80     13589\n",
      "\n",
      "avg / total       0.97      0.97      0.97    177476\n",
      "\n",
      "Confusion Matrix\n",
      "\n",
      "Predicted   0       1\n",
      "Actual\n",
      "0         163826    61\n",
      "1         4563    9026\n",
      " \n",
      "Confusion matrix (0 = \"good\" loan 1 = \"bad\" loan)\n"
     ]
    },
    {
     "data": {
      "image/png": "[encoded data removed]",
      "text/plain": [
       "<matplotlib.figure.Figure at 0x1a349159d0>"
      ]
     },
     "metadata": {},
     "output_type": "display_data"
    }
   ],
   "source": [
    "from sklearn.linear_model import LogisticRegression\n",
    "\n",
    "logmodel = LogisticRegression()\n",
    "logmodel.fit(X_train, Y_train)\n",
    "predictions = logmodel.predict(X_test)\n",
    "performance_report(logmodel, predictions, X_test, Y_test)"
   ]
  },
  {
   "cell_type": "code",
   "execution_count": 245,
   "metadata": {},
   "outputs": [
    {
     "data": {
      "image/png": "[encoded data removed]",
      "text/plain": [
       "<matplotlib.figure.Figure at 0x1a357f0fd0>"
      ]
     },
     "metadata": {},
     "output_type": "display_data"
    }
   ],
   "source": [
    "ROC_curve(logmodel, X_train, Y_train, X_test, Y_test)"
   ]
  },
  {
   "cell_type": "markdown",
   "metadata": {},
   "source": [
    "According to the confusion matrix, the amount of false negatives, or the number of loans our model predicted as 'good' but actually are 'bad' is rather high (around 4412). The amount of false postives, or the number of loans our model predicted as 'bad' but turned out to be good' is very low at 122. Thus the recall score is around 0.67, which is problematic. While lending loan is hurt by false negatives, false positives do not have much of an impact, except that you would essentially turn down \"good\" loans. This low recall score caused by the high rate of false negatives might be a result of the class imbalance. Because there are so few \"bad\" loans in the dataset, approximately 7%, the model may be achieving high accuracy by predicting more loans as \"good\" purely as a result of this imbalance. While the model did achieve high accuracy, the accuracy may be simply reflecting the underlying class distribution."
   ]
  },
  {
   "cell_type": "markdown",
   "metadata": {},
   "source": [
    "In order to attempt to fix the class imbalance, I will perform oversampling on the training set using SMOTE"
   ]
  },
  {
   "cell_type": "code",
   "execution_count": 246,
   "metadata": {},
   "outputs": [],
   "source": [
    "from sklearn.preprocessing import StandardScaler\n",
    "\n",
    "sc = StandardScaler()\n",
    "X_train_std = sc.fit_transform(X_train)\n",
    "X_test_std = sc.transform(X_test)"
   ]
  },
  {
   "cell_type": "code",
   "execution_count": 247,
   "metadata": {},
   "outputs": [],
   "source": [
    "from imblearn.over_sampling import SMOTE\n",
    "\n",
    "sm = SMOTE()\n",
    "X_train_r, Y_train_r = sm.fit_sample(X_train_std, Y_train)"
   ]
  },
  {
   "cell_type": "code",
   "execution_count": 248,
   "metadata": {},
   "outputs": [
    {
     "name": "stdout",
     "output_type": "stream",
     "text": [
      "('Cohen Kappa Score:', 0.71843287564115355)\n",
      " \n",
      "Classification Report\n",
      " \n",
      "             precision    recall  f1-score   support\n",
      "\n",
      "          0       0.98      0.98      0.98    163887\n",
      "          1       0.74      0.74      0.74     13589\n",
      "\n",
      "avg / total       0.96      0.96      0.96    177476\n",
      "\n",
      "Confusion Matrix\n",
      "\n",
      "Predicted   0       1\n",
      "Actual\n",
      "0         160394    3493\n",
      "1         3558    10031\n",
      " \n",
      "Confusion matrix (0 = \"good\" loan 1 = \"bad\" loan)\n"
     ]
    },
    {
     "data": {
      "image/png": "[encoded data removed]",
      "text/plain": [
       "<matplotlib.figure.Figure at 0x1a3cc07a90>"
      ]
     },
     "metadata": {},
     "output_type": "display_data"
    }
   ],
   "source": [
    "logmodel2 = LogisticRegression()\n",
    "logmodel2.fit(X_train_r, Y_train_r)\n",
    "predictions = logmodel2.predict(X_test_std)\n",
    "performance_report(logmodel2, predictions, X_test_std, Y_test)"
   ]
  },
  {
   "cell_type": "code",
   "execution_count": 249,
   "metadata": {},
   "outputs": [
    {
     "data": {
      "image/png": "[encoded data removed]",
      "text/plain": [
       "<matplotlib.figure.Figure at 0x1a3cdf1dd0>"
      ]
     },
     "metadata": {},
     "output_type": "display_data"
    }
   ],
   "source": [
    "ROC_curve(logmodel2, X_train_r, Y_train_r, X_test_std, Y_test)"
   ]
  },
  {
   "cell_type": "code",
   "execution_count": 250,
   "metadata": {},
   "outputs": [],
   "source": [
    "from imblearn.under_sampling import RandomUnderSampler\n",
    "\n",
    "rus = RandomUnderSampler(return_indices=True)\n",
    "X = X_train\n",
    "Y = Y_train\n",
    "X_resampled, Y_resampled, idx_resampled = rus.fit_sample(X, Y)\n",
    "\n",
    "X_resampled = pd.DataFrame(X_resampled)\n",
    "Y_resampled = pd.DataFrame(Y_resampled)\n",
    "Y_resampled.columns = ['Class']\n",
    "undersampled_data = pd.concat([X_resampled, Y_resampled], axis=1)\n",
    "\n",
    "X = undersampled_data.values\n",
    "Y = undersampled_data.Class.values\n",
    "X_train_rus, X_test_rus, Y_train_rus, Y_test_rus = train_test_split(X, Y ,test_size=0.2)"
   ]
  },
  {
   "cell_type": "code",
   "execution_count": 251,
   "metadata": {},
   "outputs": [
    {
     "data": {
      "image/png": "[encoded data removed]",
      "text/plain": [
       "<matplotlib.figure.Figure at 0x1a61785610>"
      ]
     },
     "metadata": {},
     "output_type": "display_data"
    }
   ],
   "source": [
    "ax = sns.countplot(x='Class', data= Y_resampled)"
   ]
  },
  {
   "cell_type": "code",
   "execution_count": 252,
   "metadata": {},
   "outputs": [
    {
     "name": "stdout",
     "output_type": "stream",
     "text": [
      "('Cohen Kappa Score:', 0.70861292876247473)\n",
      " \n",
      "Classification Report\n",
      " \n",
      "             precision    recall  f1-score   support\n",
      "\n",
      "          0       0.79      0.97      0.87     10583\n",
      "          1       0.96      0.74      0.84     10953\n",
      "\n",
      "avg / total       0.87      0.85      0.85     21536\n",
      "\n",
      "Confusion Matrix\n",
      "\n",
      "Predicted   0       1\n",
      "Actual\n",
      "0         10234    349\n",
      "1         2800    8153\n",
      " \n",
      "Confusion matrix (0 = \"good\" loan 1 = \"bad\" loan)\n"
     ]
    },
    {
     "data": {
      "image/png": "[encoded data removed]",
      "text/plain": [
       "<matplotlib.figure.Figure at 0x1a73225050>"
      ]
     },
     "metadata": {},
     "output_type": "display_data"
    }
   ],
   "source": [
    "logmodel3 = LogisticRegression()\n",
    "logmodel3.fit(X_train_rus, Y_train_rus)\n",
    "predictions = logmodel3.predict(X_test_rus)\n",
    "performance_report(logmodel3, predictions, X_test_rus, Y_test_rus)"
   ]
  },
  {
   "cell_type": "code",
   "execution_count": 253,
   "metadata": {},
   "outputs": [
    {
     "data": {
      "image/png": "[encoded data removed]",
      "text/plain": [
       "<matplotlib.figure.Figure at 0x1a3cbb9390>"
      ]
     },
     "metadata": {},
     "output_type": "display_data"
    }
   ],
   "source": [
    "ROC_curve(logmodel3, X_train_rus, Y_train_rus, X_test_rus, Y_test_rus)"
   ]
  }
 ],
 "metadata": {
  "kernelspec": {
   "display_name": "Python 2",
   "language": "python",
   "name": "python2"
  },
  "language_info": {
   "codemirror_mode": {
    "name": "ipython",
    "version": 2
   },
   "file_extension": ".py",
   "mimetype": "text/x-python",
   "name": "python",
   "nbconvert_exporter": "python",
   "pygments_lexer": "ipython2",
   "version": "2.7.14"
  }
 },
 "nbformat": 4,
 "nbformat_minor": 2
}
